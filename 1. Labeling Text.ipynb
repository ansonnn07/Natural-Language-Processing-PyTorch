{
 "cells": [
  {
   "cell_type": "markdown",
   "id": "fb3b7705-dadf-4c96-9d42-f6c83a53765a",
   "metadata": {},
   "source": [
    "# Setup"
   ]
  },
  {
   "cell_type": "code",
   "execution_count": 1,
   "id": "92ec9ae8-c7f1-4335-8423-1a93acefb410",
   "metadata": {},
   "outputs": [],
   "source": [
    "import os\n",
    "import json\n",
    "\n",
    "import pandas as pd\n",
    "import numpy as np"
   ]
  },
  {
   "cell_type": "code",
   "execution_count": 2,
   "id": "7cadaa3a-ecf5-4fce-9d4b-583573c62ab2",
   "metadata": {},
   "outputs": [],
   "source": [
    "DATA_PATH = r\"data/Coronavirus tweets\"\n",
    "SAMPLE_PATH = r\"sample_data/sample_text_classification_data.txt\"\n",
    "\n",
    "DATA_PATH_2 = r\"data/Stanford question answering\"\n",
    "SAMPLE_PATH_2 = r\"sample_data/sample_qa.json\""
   ]
  },
  {
   "cell_type": "markdown",
   "id": "b47b2ab9-2cf0-4a82-81cc-a8718f575275",
   "metadata": {},
   "source": [
    "# Sentiment Analysis Text Labeling"
   ]
  },
  {
   "cell_type": "markdown",
   "id": "2d767fc7-de36-4239-92f3-77780efd4288",
   "metadata": {},
   "source": [
    "Let's check the [Coronavirus Tweets dataset](https://www.kaggle.com/datatattle/covid-19-nlp-text-classification) used for sentiment analysis."
   ]
  },
  {
   "cell_type": "code",
   "execution_count": 3,
   "id": "0c78cc57-42c7-4252-a7d8-200d6ae663a3",
   "metadata": {},
   "outputs": [],
   "source": [
    "train_df = pd.read_csv(os.path.join(DATA_PATH, \"Corona_NLP_train.csv\"))"
   ]
  },
  {
   "cell_type": "code",
   "execution_count": 4,
   "id": "95c2587b-2eaf-4d21-be84-4bece227b2c4",
   "metadata": {},
   "outputs": [
    {
     "data": {
      "text/html": [
       "<div>\n",
       "<style scoped>\n",
       "    .dataframe tbody tr th:only-of-type {\n",
       "        vertical-align: middle;\n",
       "    }\n",
       "\n",
       "    .dataframe tbody tr th {\n",
       "        vertical-align: top;\n",
       "    }\n",
       "\n",
       "    .dataframe thead th {\n",
       "        text-align: right;\n",
       "    }\n",
       "</style>\n",
       "<table border=\"1\" class=\"dataframe\">\n",
       "  <thead>\n",
       "    <tr style=\"text-align: right;\">\n",
       "      <th></th>\n",
       "      <th>UserName</th>\n",
       "      <th>ScreenName</th>\n",
       "      <th>Location</th>\n",
       "      <th>TweetAt</th>\n",
       "      <th>OriginalTweet</th>\n",
       "      <th>Sentiment</th>\n",
       "    </tr>\n",
       "  </thead>\n",
       "  <tbody>\n",
       "    <tr>\n",
       "      <th>0</th>\n",
       "      <td>3799</td>\n",
       "      <td>48751</td>\n",
       "      <td>London</td>\n",
       "      <td>16-03-2020</td>\n",
       "      <td>@MeNyrbie @Phil_Gahan @Chrisitv https://t.co/i...</td>\n",
       "      <td>Neutral</td>\n",
       "    </tr>\n",
       "    <tr>\n",
       "      <th>1</th>\n",
       "      <td>3800</td>\n",
       "      <td>48752</td>\n",
       "      <td>UK</td>\n",
       "      <td>16-03-2020</td>\n",
       "      <td>advice Talk to your neighbours family to excha...</td>\n",
       "      <td>Positive</td>\n",
       "    </tr>\n",
       "    <tr>\n",
       "      <th>2</th>\n",
       "      <td>3801</td>\n",
       "      <td>48753</td>\n",
       "      <td>Vagabonds</td>\n",
       "      <td>16-03-2020</td>\n",
       "      <td>Coronavirus Australia: Woolworths to give elde...</td>\n",
       "      <td>Positive</td>\n",
       "    </tr>\n",
       "    <tr>\n",
       "      <th>3</th>\n",
       "      <td>3802</td>\n",
       "      <td>48754</td>\n",
       "      <td>NaN</td>\n",
       "      <td>16-03-2020</td>\n",
       "      <td>My food stock is not the only one which is emp...</td>\n",
       "      <td>Positive</td>\n",
       "    </tr>\n",
       "    <tr>\n",
       "      <th>4</th>\n",
       "      <td>3803</td>\n",
       "      <td>48755</td>\n",
       "      <td>NaN</td>\n",
       "      <td>16-03-2020</td>\n",
       "      <td>Me, ready to go at supermarket during the #COV...</td>\n",
       "      <td>Extremely Negative</td>\n",
       "    </tr>\n",
       "    <tr>\n",
       "      <th>5</th>\n",
       "      <td>3804</td>\n",
       "      <td>48756</td>\n",
       "      <td>ÜT: 36.319708,-82.363649</td>\n",
       "      <td>16-03-2020</td>\n",
       "      <td>As news of the regions first confirmed COVID-...</td>\n",
       "      <td>Positive</td>\n",
       "    </tr>\n",
       "    <tr>\n",
       "      <th>6</th>\n",
       "      <td>3805</td>\n",
       "      <td>48757</td>\n",
       "      <td>35.926541,-78.753267</td>\n",
       "      <td>16-03-2020</td>\n",
       "      <td>Cashier at grocery store was sharing his insig...</td>\n",
       "      <td>Positive</td>\n",
       "    </tr>\n",
       "    <tr>\n",
       "      <th>7</th>\n",
       "      <td>3806</td>\n",
       "      <td>48758</td>\n",
       "      <td>Austria</td>\n",
       "      <td>16-03-2020</td>\n",
       "      <td>Was at the supermarket today. Didn't buy toile...</td>\n",
       "      <td>Neutral</td>\n",
       "    </tr>\n",
       "    <tr>\n",
       "      <th>8</th>\n",
       "      <td>3807</td>\n",
       "      <td>48759</td>\n",
       "      <td>Atlanta, GA USA</td>\n",
       "      <td>16-03-2020</td>\n",
       "      <td>Due to COVID-19 our retail store and classroom...</td>\n",
       "      <td>Positive</td>\n",
       "    </tr>\n",
       "    <tr>\n",
       "      <th>9</th>\n",
       "      <td>3808</td>\n",
       "      <td>48760</td>\n",
       "      <td>BHAVNAGAR,GUJRAT</td>\n",
       "      <td>16-03-2020</td>\n",
       "      <td>For corona prevention,we should stop to buy th...</td>\n",
       "      <td>Negative</td>\n",
       "    </tr>\n",
       "  </tbody>\n",
       "</table>\n",
       "</div>"
      ],
      "text/plain": [
       "   UserName  ScreenName                  Location     TweetAt  \\\n",
       "0      3799       48751                    London  16-03-2020   \n",
       "1      3800       48752                        UK  16-03-2020   \n",
       "2      3801       48753                 Vagabonds  16-03-2020   \n",
       "3      3802       48754                       NaN  16-03-2020   \n",
       "4      3803       48755                       NaN  16-03-2020   \n",
       "5      3804       48756  ÜT: 36.319708,-82.363649  16-03-2020   \n",
       "6      3805       48757      35.926541,-78.753267  16-03-2020   \n",
       "7      3806       48758                   Austria  16-03-2020   \n",
       "8      3807       48759           Atlanta, GA USA  16-03-2020   \n",
       "9      3808       48760          BHAVNAGAR,GUJRAT  16-03-2020   \n",
       "\n",
       "                                       OriginalTweet           Sentiment  \n",
       "0  @MeNyrbie @Phil_Gahan @Chrisitv https://t.co/i...             Neutral  \n",
       "1  advice Talk to your neighbours family to excha...            Positive  \n",
       "2  Coronavirus Australia: Woolworths to give elde...            Positive  \n",
       "3  My food stock is not the only one which is emp...            Positive  \n",
       "4  Me, ready to go at supermarket during the #COV...  Extremely Negative  \n",
       "5  As news of the regions first confirmed COVID-...            Positive  \n",
       "6  Cashier at grocery store was sharing his insig...            Positive  \n",
       "7  Was at the supermarket today. Didn't buy toile...             Neutral  \n",
       "8  Due to COVID-19 our retail store and classroom...            Positive  \n",
       "9  For corona prevention,we should stop to buy th...            Negative  "
      ]
     },
     "execution_count": 4,
     "metadata": {},
     "output_type": "execute_result"
    }
   ],
   "source": [
    "train_df.head(10)"
   ]
  },
  {
   "cell_type": "markdown",
   "id": "cf66547f-28b3-435e-8bac-51519d13dc1b",
   "metadata": {},
   "source": [
    "## Preparing sample data"
   ]
  },
  {
   "cell_type": "markdown",
   "id": "af809611-60fa-4879-9498-286ffcb2eb7f",
   "metadata": {},
   "source": [
    "Let's just say we have a CSV file with only a text column."
   ]
  },
  {
   "cell_type": "code",
   "execution_count": 5,
   "id": "87672fb8-36a1-4af5-b898-41206ac65ec7",
   "metadata": {},
   "outputs": [
    {
     "data": {
      "text/plain": [
       "0    @MeNyrbie @Phil_Gahan @Chrisitv https://t.co/i...\n",
       "1    advice Talk to your neighbours family to excha...\n",
       "2    Coronavirus Australia: Woolworths to give elde...\n",
       "3    My food stock is not the only one which is emp...\n",
       "4    Me, ready to go at supermarket during the #COV...\n",
       "5    As news of the regions first confirmed COVID-...\n",
       "Name: OriginalTweet, dtype: object"
      ]
     },
     "execution_count": 5,
     "metadata": {},
     "output_type": "execute_result"
    }
   ],
   "source": [
    "# we create a sample out of the original dataset to use for demo\n",
    "sample_df = train_df.loc[:5, 'OriginalTweet'].copy()\n",
    "sample_df"
   ]
  },
  {
   "cell_type": "code",
   "execution_count": 6,
   "id": "da161089-210f-41c8-b972-8582a7eeba8f",
   "metadata": {},
   "outputs": [
    {
     "data": {
      "text/plain": [
       "\"My food stock is not the only one which is empty...\\r\\r\\n\\r\\r\\nPLEASE, don't panic, THERE WILL BE ENOUGH FOOD FOR EVERYONE if you do not take more than you need. \\r\\r\\nStay calm, stay safe.\\r\\r\\n\\r\\r\\n#COVID19france #COVID_19 #COVID19 #coronavirus #confinement #Confinementotal #ConfinementGeneral https://t.co/zrlG0Z520j\""
      ]
     },
     "execution_count": 6,
     "metadata": {},
     "output_type": "execute_result"
    }
   ],
   "source": [
    "sample_df[3]"
   ]
  },
  {
   "cell_type": "code",
   "execution_count": 7,
   "id": "e598da86-fdfb-45bf-a2fa-fe69d55057d9",
   "metadata": {},
   "outputs": [
    {
     "data": {
      "text/plain": [
       "\"My food stock is not the only one which is empty...PLEASE, don't panic, THERE WILL BE ENOUGH FOOD FOR EVERYONE if you do not take more than you need. Stay calm, stay safe.#COVID19france #COVID_19 #COVID19 #coronavirus #confinement #Confinementotal #ConfinementGeneral https://t.co/zrlG0Z520j\""
      ]
     },
     "execution_count": 7,
     "metadata": {},
     "output_type": "execute_result"
    }
   ],
   "source": [
    "# must replace all newline characters because for Label Studio, each line represents a data record.\n",
    "sample_df.replace(\"(\\r|\\n)\", \"\", regex=True)[3]"
   ]
  },
  {
   "cell_type": "code",
   "execution_count": 8,
   "id": "b22072d4-bf54-4c16-b8ec-d33630f2db95",
   "metadata": {},
   "outputs": [],
   "source": [
    "sample_df.replace(\"(\\r|\\n)\", \"\", regex=True, inplace=True)"
   ]
  },
  {
   "cell_type": "code",
   "execution_count": 9,
   "id": "9607b5e9-1c2b-49cb-98a1-d03e116eb539",
   "metadata": {},
   "outputs": [],
   "source": [
    "# we save the data as TXT file for Label Studio to know that it is for text data\n",
    "sample_df.to_csv(SAMPLE_PATH, header=False, index=False, sep='\\n')"
   ]
  },
  {
   "cell_type": "markdown",
   "id": "e80a141f-525e-4fd2-b0eb-d8d8a6494d59",
   "metadata": {},
   "source": [
    "Then upload this text file into Label Studio, choose the \"Text Classification\" template then you are good to go.\n",
    "\n",
    "You can export in CSV format which will contain the text sentences with respect to their labels."
   ]
  },
  {
   "cell_type": "markdown",
   "id": "ec9059df-a657-4780-86a5-457d18056813",
   "metadata": {},
   "source": [
    "# Question Answering Text Labeling"
   ]
  },
  {
   "cell_type": "markdown",
   "id": "9dc22a7c-14b1-44da-aef4-c328f8267c5b",
   "metadata": {},
   "source": [
    "Let's check how the [Stanford Question Answering dataset](https://www.kaggle.com/stanfordu/stanford-question-answering-dataset) is structured, this is a great reference for how question answering text data is generally structured."
   ]
  },
  {
   "cell_type": "code",
   "execution_count": 10,
   "id": "5a7e4c50-e400-425f-84f0-c280acb5af46",
   "metadata": {},
   "outputs": [
    {
     "name": "stdout",
     "output_type": "stream",
     "text": [
      "dict_keys(['data', 'version'])\n"
     ]
    }
   ],
   "source": [
    "TRAIN_PATH = os.path.join(DATA_PATH_2, \"train-v1.1.json\")\n",
    "with open(TRAIN_PATH) as f:\n",
    "    train_json = json.load(f)\n",
    "print(train_json.keys())"
   ]
  },
  {
   "cell_type": "markdown",
   "id": "8216662d-cebc-48e9-97a4-cf490b36b248",
   "metadata": {},
   "source": [
    "NOTE: CAREFUL not to print the entire JSON file, as it is very huge and may crash your Jupyter notebook."
   ]
  },
  {
   "cell_type": "code",
   "execution_count": 11,
   "id": "0c01f9db-23bb-4769-bddb-9de603029a40",
   "metadata": {},
   "outputs": [
    {
     "data": {
      "text/plain": [
       "list"
      ]
     },
     "execution_count": 11,
     "metadata": {},
     "output_type": "execute_result"
    }
   ],
   "source": [
    "type(train_json['data'])"
   ]
  },
  {
   "cell_type": "code",
   "execution_count": 12,
   "id": "6cbb9bef-f1c5-4109-9b51-e997981232e9",
   "metadata": {},
   "outputs": [
    {
     "data": {
      "text/plain": [
       "442"
      ]
     },
     "execution_count": 12,
     "metadata": {},
     "output_type": "execute_result"
    }
   ],
   "source": [
    "len(train_json['data'])"
   ]
  },
  {
   "cell_type": "code",
   "execution_count": 13,
   "id": "50ed84e3-85b5-48ad-a4d0-15558f2599ff",
   "metadata": {},
   "outputs": [
    {
     "data": {
      "text/plain": [
       "dict_keys(['title', 'paragraphs'])"
      ]
     },
     "execution_count": 13,
     "metadata": {},
     "output_type": "execute_result"
    }
   ],
   "source": [
    "train_json['data'][0].keys()"
   ]
  },
  {
   "cell_type": "code",
   "execution_count": 14,
   "id": "05fa3335-680a-4df5-95e2-a0abf41bc3ee",
   "metadata": {},
   "outputs": [
    {
     "data": {
      "text/plain": [
       "'University_of_Notre_Dame'"
      ]
     },
     "execution_count": 14,
     "metadata": {},
     "output_type": "execute_result"
    }
   ],
   "source": [
    "train_json['data'][0]['title']"
   ]
  },
  {
   "cell_type": "code",
   "execution_count": 15,
   "id": "ab3e38d6-b8ee-4cac-b574-5d4000a88ced",
   "metadata": {},
   "outputs": [
    {
     "data": {
      "text/plain": [
       "55"
      ]
     },
     "execution_count": 15,
     "metadata": {},
     "output_type": "execute_result"
    }
   ],
   "source": [
    "len(train_json['data'][0]['paragraphs'])"
   ]
  },
  {
   "cell_type": "code",
   "execution_count": 16,
   "id": "a6a444ea-4921-40ff-9b0e-b399be34df15",
   "metadata": {},
   "outputs": [
    {
     "data": {
      "text/plain": [
       "dict_keys(['context', 'qas'])"
      ]
     },
     "execution_count": 16,
     "metadata": {},
     "output_type": "execute_result"
    }
   ],
   "source": [
    "train_json['data'][0]['paragraphs'][0].keys()"
   ]
  },
  {
   "cell_type": "code",
   "execution_count": 17,
   "id": "37ea94fb-0cbb-443f-aed8-5ef3419bd9ba",
   "metadata": {},
   "outputs": [
    {
     "data": {
      "text/plain": [
       "{'context': 'Architecturally, the school has a Catholic character. Atop the Main Building\\'s gold dome is a golden statue of the Virgin Mary. Immediately in front of the Main Building and facing it, is a copper statue of Christ with arms upraised with the legend \"Venite Ad Me Omnes\". Next to the Main Building is the Basilica of the Sacred Heart. Immediately behind the basilica is the Grotto, a Marian place of prayer and reflection. It is a replica of the grotto at Lourdes, France where the Virgin Mary reputedly appeared to Saint Bernadette Soubirous in 1858. At the end of the main drive (and in a direct line that connects through 3 statues and the Gold Dome), is a simple, modern stone statue of Mary.',\n",
       " 'qas': [{'answers': [{'answer_start': 515,\n",
       "     'text': 'Saint Bernadette Soubirous'}],\n",
       "   'question': 'To whom did the Virgin Mary allegedly appear in 1858 in Lourdes France?',\n",
       "   'id': '5733be284776f41900661182'},\n",
       "  {'answers': [{'answer_start': 188, 'text': 'a copper statue of Christ'}],\n",
       "   'question': 'What is in front of the Notre Dame Main Building?',\n",
       "   'id': '5733be284776f4190066117f'},\n",
       "  {'answers': [{'answer_start': 279, 'text': 'the Main Building'}],\n",
       "   'question': 'The Basilica of the Sacred heart at Notre Dame is beside to which structure?',\n",
       "   'id': '5733be284776f41900661180'},\n",
       "  {'answers': [{'answer_start': 381,\n",
       "     'text': 'a Marian place of prayer and reflection'}],\n",
       "   'question': 'What is the Grotto at Notre Dame?',\n",
       "   'id': '5733be284776f41900661181'},\n",
       "  {'answers': [{'answer_start': 92,\n",
       "     'text': 'a golden statue of the Virgin Mary'}],\n",
       "   'question': 'What sits on top of the Main Building at Notre Dame?',\n",
       "   'id': '5733be284776f4190066117e'}]}"
      ]
     },
     "execution_count": 17,
     "metadata": {},
     "output_type": "execute_result"
    }
   ],
   "source": [
    "train_json['data'][0]['paragraphs'][0]"
   ]
  },
  {
   "cell_type": "code",
   "execution_count": 18,
   "id": "43dc53fc-cbeb-486a-acaf-69badea350b6",
   "metadata": {},
   "outputs": [
    {
     "data": {
      "text/plain": [
       "'Architecturally, the school has a Catholic character. Atop the Main Building\\'s gold dome is a golden statue of the Virgin Mary. Immediately in front of the Main Building and facing it, is a copper statue of Christ with arms upraised with the legend \"Venite Ad Me Omnes\". Next to the Main Building is the Basilica of the Sacred Heart. Immediately behind the basilica is the Grotto, a Marian place of prayer and reflection. It is a replica of the grotto at Lourdes, France where the Virgin Mary reputedly appeared to Saint Bernadette Soubirous in 1858. At the end of the main drive (and in a direct line that connects through 3 statues and the Gold Dome), is a simple, modern stone statue of Mary.'"
      ]
     },
     "execution_count": 18,
     "metadata": {},
     "output_type": "execute_result"
    }
   ],
   "source": [
    "train_json['data'][0]['paragraphs'][0]['context']"
   ]
  },
  {
   "cell_type": "code",
   "execution_count": 19,
   "id": "32e0a39c-b0ac-4c2d-93ef-1eea1be93557",
   "metadata": {},
   "outputs": [
    {
     "data": {
      "text/plain": [
       "[{'answers': [{'answer_start': 515, 'text': 'Saint Bernadette Soubirous'}],\n",
       "  'question': 'To whom did the Virgin Mary allegedly appear in 1858 in Lourdes France?',\n",
       "  'id': '5733be284776f41900661182'},\n",
       " {'answers': [{'answer_start': 188, 'text': 'a copper statue of Christ'}],\n",
       "  'question': 'What is in front of the Notre Dame Main Building?',\n",
       "  'id': '5733be284776f4190066117f'},\n",
       " {'answers': [{'answer_start': 279, 'text': 'the Main Building'}],\n",
       "  'question': 'The Basilica of the Sacred heart at Notre Dame is beside to which structure?',\n",
       "  'id': '5733be284776f41900661180'},\n",
       " {'answers': [{'answer_start': 381,\n",
       "    'text': 'a Marian place of prayer and reflection'}],\n",
       "  'question': 'What is the Grotto at Notre Dame?',\n",
       "  'id': '5733be284776f41900661181'},\n",
       " {'answers': [{'answer_start': 92,\n",
       "    'text': 'a golden statue of the Virgin Mary'}],\n",
       "  'question': 'What sits on top of the Main Building at Notre Dame?',\n",
       "  'id': '5733be284776f4190066117e'}]"
      ]
     },
     "execution_count": 19,
     "metadata": {},
     "output_type": "execute_result"
    }
   ],
   "source": [
    "# NOTE: there can be many questions for one context\n",
    "train_json['data'][0]['paragraphs'][0]['qas']"
   ]
  },
  {
   "cell_type": "markdown",
   "id": "233ad492-a0f6-4107-813d-670c9c0f4a3a",
   "metadata": {},
   "source": [
    "## Create sample data for demo"
   ]
  },
  {
   "cell_type": "markdown",
   "id": "93af7041-03d9-4551-9db4-c5413e9c3681",
   "metadata": {},
   "source": [
    "We want the output JSON to be in this format for Label Studio to accept:\n",
    "```\n",
    "[\n",
    "  {\n",
    "    \"data\": {\n",
    "      \"text\": ...,\n",
    "      \"question\": ...\n",
    "    }\n",
    "  },\n",
    "  {\n",
    "    \"data\": {\n",
    "      \"text\": ...,\n",
    "      \"question\": ...\n",
    "    }\n",
    "  }\n",
    "]\n",
    "```"
   ]
  },
  {
   "cell_type": "markdown",
   "id": "058f1237-3e3a-4f0b-af37-19ac7ad8d25b",
   "metadata": {},
   "source": [
    "Each record needs a \"data\" key, with only one context (Label Studio uses \"text\" key for the context) and one question."
   ]
  },
  {
   "cell_type": "code",
   "execution_count": 20,
   "id": "65f41af8-6fb7-4257-b007-c5abb9d17397",
   "metadata": {},
   "outputs": [
    {
     "data": {
      "text/html": [
       "<div>\n",
       "<style scoped>\n",
       "    .dataframe tbody tr th:only-of-type {\n",
       "        vertical-align: middle;\n",
       "    }\n",
       "\n",
       "    .dataframe tbody tr th {\n",
       "        vertical-align: top;\n",
       "    }\n",
       "\n",
       "    .dataframe thead th {\n",
       "        text-align: right;\n",
       "    }\n",
       "</style>\n",
       "<table border=\"1\" class=\"dataframe\">\n",
       "  <thead>\n",
       "    <tr style=\"text-align: right;\">\n",
       "      <th></th>\n",
       "      <th>data</th>\n",
       "    </tr>\n",
       "  </thead>\n",
       "  <tbody>\n",
       "    <tr>\n",
       "      <th>0</th>\n",
       "      <td>{'text': 'Sony Music Entertainment Inc. (somet...</td>\n",
       "    </tr>\n",
       "    <tr>\n",
       "      <th>1</th>\n",
       "      <td>{'text': 'Sony Music Entertainment Inc. (somet...</td>\n",
       "    </tr>\n",
       "    <tr>\n",
       "      <th>2</th>\n",
       "      <td>{'text': 'Sony Music Entertainment Inc. (somet...</td>\n",
       "    </tr>\n",
       "    <tr>\n",
       "      <th>3</th>\n",
       "      <td>{'text': 'Sony Music Entertainment Inc. (somet...</td>\n",
       "    </tr>\n",
       "    <tr>\n",
       "      <th>4</th>\n",
       "      <td>{'text': 'Sony Music Entertainment Inc. (somet...</td>\n",
       "    </tr>\n",
       "  </tbody>\n",
       "</table>\n",
       "</div>"
      ],
      "text/plain": [
       "                                                data\n",
       "0  {'text': 'Sony Music Entertainment Inc. (somet...\n",
       "1  {'text': 'Sony Music Entertainment Inc. (somet...\n",
       "2  {'text': 'Sony Music Entertainment Inc. (somet...\n",
       "3  {'text': 'Sony Music Entertainment Inc. (somet...\n",
       "4  {'text': 'Sony Music Entertainment Inc. (somet..."
      ]
     },
     "execution_count": 20,
     "metadata": {},
     "output_type": "execute_result"
    }
   ],
   "source": [
    "def get_questions(train_json):\n",
    "    question_cnt = 0\n",
    "    \n",
    "    # take 50th for easier context\n",
    "    for para in train_json['data'][50]['paragraphs']:\n",
    "        data_records = []\n",
    "        context = para['context']\n",
    "\n",
    "        for qas in para['qas']:\n",
    "            question = qas['question']\n",
    "\n",
    "            ## let's pretend we don't have answers for now, and we want to label them\n",
    "            # answer_dict = qas['answers'][0]\n",
    "            # answer_text = answer_dict['text']\n",
    "            # answer_start = answer_dict['answer_start']\n",
    "            # answer_end = answer_start + len(answer_text)\n",
    "\n",
    "            data_records.append(\n",
    "                {\n",
    "                    \"data\":\n",
    "                    {\n",
    "                        'text': context,\n",
    "                        'question': question,\n",
    "                    }\n",
    "                }\n",
    "            )\n",
    "            \n",
    "            question_cnt += 1\n",
    "            if question_cnt == 5:\n",
    "                # let's just take 5 samples as demo\n",
    "                return pd.DataFrame(data_records)\n",
    "        \n",
    "sample_df = get_questions(train_json)\n",
    "sample_df"
   ]
  },
  {
   "cell_type": "code",
   "execution_count": 21,
   "id": "aa19e932-4779-4338-9c24-118ed67992a2",
   "metadata": {},
   "outputs": [
    {
     "name": "stdout",
     "output_type": "stream",
     "text": [
      "[\n",
      "  {\n",
      "    \"data\": {\n",
      "      \"text\": \"Sony Music Entertainment Inc. (sometimes known as Sony Music or by the initials, SME) is an American music corporation managed and operated by Sony Corporation of America (SCA), a subsidiary of Japanese conglomerate Sony Corporation. In 1929, the enterprise was first founded as American Record Corporation (ARC) and, in 1938, was renamed Columbia Recording Corporation, following ARC's acquisition by CBS. In 1966, the company was reorganized to become CBS Records. In 1987, Sony Corporation of Japan bought the company, and in 1991, renamed it SME. It is the world's second largest recorded music company, after Universal Music Group.\",\n",
      "      \"question\": \"What was the first name of Sony Music Entertainment, Inc?\"\n",
      "    }\n",
      "  },\n",
      "  {\n",
      "    \"data\": {\n",
      "      \"text\": \"Sony Music Entertainment Inc. (sometimes known as Sony Music or by the initials, SME) is an American music corporation managed and operated by Sony Corporation of America (SCA), a subsidiary of Japanese conglomerate Sony Corporation. In 1929, the enterprise was first founded as American Record Corporation (ARC) and, in 1938, was renamed Columbia Recording Corporation, following ARC's acquisition by CBS. In 1966, the company was reorganized to become CBS Records. In 1987, Sony Corporation of Japan bought the company, and in 1991, renamed it SME. It is the world's second largest recorded music company, after Universal Music Group.\",\n",
      "      \"question\": \"In what year was it renamed Columbia Recording Corporation?\"\n",
      "    }\n",
      "  },\n",
      "  {\n",
      "    \"data\": {\n",
      "      \"text\": \"Sony Music Entertainment Inc. (sometimes known as Sony Music or by the initials, SME) is an American music corporation managed and operated by Sony Corporation of America (SCA), a subsidiary of Japanese conglomerate Sony Corporation. In 1929, the enterprise was first founded as American Record Corporation (ARC) and, in 1938, was renamed Columbia Recording Corporation, following ARC's acquisition by CBS. In 1966, the company was reorganized to become CBS Records. In 1987, Sony Corporation of Japan bought the company, and in 1991, renamed it SME. It is the world's second largest recorded music company, after Universal Music Group.\",\n",
      "      \"question\": \"In what year was it known as CBS Records?\"\n",
      "    }\n",
      "  },\n",
      "  {\n",
      "    \"data\": {\n",
      "      \"text\": \"Sony Music Entertainment Inc. (sometimes known as Sony Music or by the initials, SME) is an American music corporation managed and operated by Sony Corporation of America (SCA), a subsidiary of Japanese conglomerate Sony Corporation. In 1929, the enterprise was first founded as American Record Corporation (ARC) and, in 1938, was renamed Columbia Recording Corporation, following ARC's acquisition by CBS. In 1966, the company was reorganized to become CBS Records. In 1987, Sony Corporation of Japan bought the company, and in 1991, renamed it SME. It is the world's second largest recorded music company, after Universal Music Group.\",\n",
      "      \"question\": \"In what year did it land the name, Sony Music Entertainment?\"\n",
      "    }\n",
      "  },\n",
      "  {\n",
      "    \"data\": {\n",
      "      \"text\": \"Sony Music Entertainment Inc. (sometimes known as Sony Music or by the initials, SME) is an American music corporation managed and operated by Sony Corporation of America (SCA), a subsidiary of Japanese conglomerate Sony Corporation. In 1929, the enterprise was first founded as American Record Corporation (ARC) and, in 1938, was renamed Columbia Recording Corporation, following ARC's acquisition by CBS. In 1966, the company was reorganized to become CBS Records. In 1987, Sony Corporation of Japan bought the company, and in 1991, renamed it SME. It is the world's second largest recorded music company, after Universal Music Group.\",\n",
      "      \"question\": \"What company is the only group larger than Sony Music Entertainment?\"\n",
      "    }\n",
      "  }\n",
      "]\n"
     ]
    }
   ],
   "source": [
    "result = sample_df.to_json(orient=\"records\")\n",
    "parsed = json.loads(result)\n",
    "print(json.dumps(parsed, indent=2))"
   ]
  },
  {
   "cell_type": "code",
   "execution_count": 22,
   "id": "c2921087-80fb-4c03-8f4e-4ea85ba2a62b",
   "metadata": {},
   "outputs": [],
   "source": [
    "with open(SAMPLE_PATH_2, \"w\") as f:\n",
    "    json.dump(parsed, f)"
   ]
  },
  {
   "cell_type": "code",
   "execution_count": 23,
   "id": "be0ec51c-23fa-4a56-9ab4-e3c2401a7562",
   "metadata": {},
   "outputs": [
    {
     "name": "stdout",
     "output_type": "stream",
     "text": [
      "{'answers': [{'answer_start': 279, 'text': 'American Record Corporation'}], 'question': 'What was the first name of Sony Music Entertainment, Inc?', 'id': '56df11de3277331400b4d933'}\n",
      "{'answers': [{'answer_start': 321, 'text': '1938'}], 'question': 'In what year was it renamed Columbia Recording Corporation?', 'id': '56df11de3277331400b4d934'}\n",
      "{'answers': [{'answer_start': 410, 'text': '1966'}], 'question': 'In what year was it known as CBS Records?', 'id': '56df11de3277331400b4d935'}\n",
      "{'answers': [{'answer_start': 470, 'text': '1987'}], 'question': 'In what year did it land the name, Sony Music Entertainment?', 'id': '56df11de3277331400b4d936'}\n",
      "{'answers': [{'answer_start': 614, 'text': 'Universal Music Group.'}], 'question': 'What company is the only group larger than Sony Music Entertainment?', 'id': '56df11de3277331400b4d937'}\n"
     ]
    }
   ],
   "source": [
    "# checking the original answers for faster labels in the demo\n",
    "for qas in train_json['data'][50]['paragraphs'][0]['qas']:\n",
    "    print(qas)"
   ]
  },
  {
   "cell_type": "markdown",
   "id": "dbc4cfc8-12f6-4cca-9bfe-b5295c2a60d0",
   "metadata": {},
   "source": [
    "## Creating DataFrame from JSON"
   ]
  },
  {
   "cell_type": "markdown",
   "id": "1f469200-a005-4455-b1a1-f261fca43e2a",
   "metadata": {},
   "source": [
    "After done labeling, then load it here to preprocess."
   ]
  },
  {
   "cell_type": "code",
   "execution_count": 24,
   "id": "a366cf56-13b0-402e-bd63-aa00c268a65c",
   "metadata": {},
   "outputs": [],
   "source": [
    "sample_label = json.load(open(\"sample_data/sample_qa_output.json\"))"
   ]
  },
  {
   "cell_type": "markdown",
   "id": "485064de-693c-4dca-b8a2-d651f76141c4",
   "metadata": {},
   "source": [
    "! Pro tip: You can open the JSON file directly in JupyterLab and can see a nicely formatted JSON output."
   ]
  },
  {
   "cell_type": "code",
   "execution_count": 25,
   "id": "29231968-b40f-451a-b0ef-2d77fb570268",
   "metadata": {},
   "outputs": [
    {
     "name": "stdout",
     "output_type": "stream",
     "text": [
      "Text:\n",
      "Sony Music Entertainment Inc. (sometimes known as Sony Music or by the initials, SME) is an American music corporation managed and operated by Sony Corporation of America (SCA), a subsidiary of Japanese conglomerate Sony Corporation. In 1929, the enterprise was first founded as American Record Corporation (ARC) and, in 1938, was renamed Columbia Recording Corporation, following ARC's acquisition by CBS. In 1966, the company was reorganized to become CBS Records. In 1987, Sony Corporation of Japan bought the company, and in 1991, renamed it SME. It is the world's second largest recorded music company, after Universal Music Group.\n",
      "\n",
      "Question: What was the first name of Sony Music Entertainment, Inc?\n",
      "\n",
      "Answer: American Record Corporation\n"
     ]
    }
   ],
   "source": [
    "# try to get a sample record from the JSON output\n",
    "first_data = sample_label[0]\n",
    "sample_text = first_data['data']['text']\n",
    "sample_question = first_data['data']['question']\n",
    "sample_answer = first_data['annotations'][0]['result'][0]['value']['text']\n",
    "\n",
    "print(f\"Text:\\n{sample_text}\\n\")\n",
    "print(f\"Question: {sample_question}\\n\")\n",
    "print(f\"Answer: {sample_answer}\")"
   ]
  },
  {
   "cell_type": "code",
   "execution_count": 26,
   "id": "7090d5a5-7eb8-406e-80df-13e2275872c5",
   "metadata": {},
   "outputs": [
    {
     "data": {
      "text/html": [
       "<div>\n",
       "<style scoped>\n",
       "    .dataframe tbody tr th:only-of-type {\n",
       "        vertical-align: middle;\n",
       "    }\n",
       "\n",
       "    .dataframe tbody tr th {\n",
       "        vertical-align: top;\n",
       "    }\n",
       "\n",
       "    .dataframe thead th {\n",
       "        text-align: right;\n",
       "    }\n",
       "</style>\n",
       "<table border=\"1\" class=\"dataframe\">\n",
       "  <thead>\n",
       "    <tr style=\"text-align: right;\">\n",
       "      <th></th>\n",
       "      <th>context</th>\n",
       "      <th>question</th>\n",
       "      <th>answer</th>\n",
       "    </tr>\n",
       "  </thead>\n",
       "  <tbody>\n",
       "    <tr>\n",
       "      <th>0</th>\n",
       "      <td>Sony Music Entertainment Inc. (sometimes known...</td>\n",
       "      <td>What was the first name of Sony Music Entertai...</td>\n",
       "      <td>American Record Corporation</td>\n",
       "    </tr>\n",
       "    <tr>\n",
       "      <th>1</th>\n",
       "      <td>Sony Music Entertainment Inc. (sometimes known...</td>\n",
       "      <td>In what year was it renamed Columbia Recording...</td>\n",
       "      <td>1938</td>\n",
       "    </tr>\n",
       "    <tr>\n",
       "      <th>2</th>\n",
       "      <td>Sony Music Entertainment Inc. (sometimes known...</td>\n",
       "      <td>In what year was it known as CBS Records?</td>\n",
       "      <td>1966</td>\n",
       "    </tr>\n",
       "    <tr>\n",
       "      <th>3</th>\n",
       "      <td>Sony Music Entertainment Inc. (sometimes known...</td>\n",
       "      <td>In what year did it land the name, Sony Music ...</td>\n",
       "      <td>1987</td>\n",
       "    </tr>\n",
       "    <tr>\n",
       "      <th>4</th>\n",
       "      <td>Sony Music Entertainment Inc. (sometimes known...</td>\n",
       "      <td>What company is the only group larger than Son...</td>\n",
       "      <td>Universal Music Group</td>\n",
       "    </tr>\n",
       "  </tbody>\n",
       "</table>\n",
       "</div>"
      ],
      "text/plain": [
       "                                             context  \\\n",
       "0  Sony Music Entertainment Inc. (sometimes known...   \n",
       "1  Sony Music Entertainment Inc. (sometimes known...   \n",
       "2  Sony Music Entertainment Inc. (sometimes known...   \n",
       "3  Sony Music Entertainment Inc. (sometimes known...   \n",
       "4  Sony Music Entertainment Inc. (sometimes known...   \n",
       "\n",
       "                                            question  \\\n",
       "0  What was the first name of Sony Music Entertai...   \n",
       "1  In what year was it renamed Columbia Recording...   \n",
       "2          In what year was it known as CBS Records?   \n",
       "3  In what year did it land the name, Sony Music ...   \n",
       "4  What company is the only group larger than Son...   \n",
       "\n",
       "                        answer  \n",
       "0  American Record Corporation  \n",
       "1                         1938  \n",
       "2                         1966  \n",
       "3                         1987  \n",
       "4        Universal Music Group  "
      ]
     },
     "execution_count": 26,
     "metadata": {},
     "output_type": "execute_result"
    }
   ],
   "source": [
    "def get_qas(json_data):\n",
    "    qas_list = []\n",
    "    for label in json_data:\n",
    "        text = label['data']['text']\n",
    "        question = label['data']['question']\n",
    "        answer = label['annotations'][0]['result'][0]['value']['text']\n",
    "        \n",
    "        qas_list.append({\n",
    "            'context': text,\n",
    "            'question': question,\n",
    "            'answer': answer,\n",
    "        })\n",
    "    return pd.DataFrame(qas_list)\n",
    "\n",
    "sample_output = get_qas(sample_label)\n",
    "sample_output"
   ]
  },
  {
   "cell_type": "markdown",
   "id": "ad35daaa-cb63-42b3-b4f0-0bf4f4deb6d6",
   "metadata": {},
   "source": [
    "Now we are done creating the demo dataset that can easily be used for training."
   ]
  },
  {
   "cell_type": "code",
   "execution_count": null,
   "id": "42fc678b-671e-413c-b8d9-c08c1bbeb759",
   "metadata": {},
   "outputs": [],
   "source": []
  }
 ],
 "metadata": {
  "kernelspec": {
   "display_name": "torch",
   "language": "python",
   "name": "torch"
  },
  "language_info": {
   "codemirror_mode": {
    "name": "ipython",
    "version": 3
   },
   "file_extension": ".py",
   "mimetype": "text/x-python",
   "name": "python",
   "nbconvert_exporter": "python",
   "pygments_lexer": "ipython3",
   "version": "3.8.11"
  }
 },
 "nbformat": 4,
 "nbformat_minor": 5
}
