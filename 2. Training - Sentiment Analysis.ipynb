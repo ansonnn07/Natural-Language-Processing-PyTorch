{
 "cells": [
  {
   "cell_type": "markdown",
   "id": "bf288232",
   "metadata": {
    "id": "fc5d1836-f320-4306-b79c-403dcd05d59d"
   },
   "source": [
    "# Setup"
   ]
  },
  {
   "cell_type": "code",
   "execution_count": null,
   "id": "d6ed6f32-5c96-4283-9f38-047ef65c321c",
   "metadata": {
    "id": "9bc57aed-5977-438f-87a4-102d1d45afec"
   },
   "outputs": [],
   "source": [
    "# Load necessary libraries\n",
    "import pandas as pd\n",
    "import matplotlib.pyplot as plt\n",
    "import seaborn as sns\n",
    "import numpy as np\n",
    "from pandas.plotting import register_matplotlib_converters\n",
    "\n",
    "\n",
    "from sklearn.model_selection import train_test_split\n",
    "\n",
    "import nltk\n",
    "from nltk.corpus import stopwords as nltk_stopwords\n",
    "from wordcloud import WordCloud, STOPWORDS\n",
    "\n",
    "from transformers import AutoModel\n",
    "import torch\n",
    "from torch import nn\n",
    "from torch.nn import functional as F"
   ]
  },
  {
   "cell_type": "code",
   "execution_count": null,
   "id": "dc655058-a7bf-4758-b01f-bffe76e9711c",
   "metadata": {
    "id": "9bc57aed-5977-438f-87a4-102d1d45afec"
   },
   "outputs": [],
   "source": [
    "%matplotlib inline\n",
    "\n",
    "# change the font_scale all at once\n",
    "sns.set(font_scale=1.5)\n",
    "\n",
    "# use the ggplot theme for our figures\n",
    "plt.style.use('ggplot')\n",
    "\n",
    "# setting some visualization parameters\n",
    "# rcParams must come after style\n",
    "plt.rcParams['figure.figsize'] = (16, 10)\n",
    "plt.rcParams['axes.labelsize'] = 15\n",
    "plt.rcParams['xtick.labelsize'] = 12\n",
    "plt.rcParams['ytick.labelsize'] = 12"
   ]
  },
  {
   "cell_type": "code",
   "execution_count": null,
   "id": "f62d5ff3-6f43-44ac-95e7-8f5cba9e912b",
   "metadata": {},
   "outputs": [],
   "source": [
    "torch.cuda.is_available()"
   ]
  },
  {
   "cell_type": "code",
   "execution_count": null,
   "id": "87355139-055f-4ecf-99c1-fa92ac01ce2e",
   "metadata": {},
   "outputs": [],
   "source": [
    "device = torch.device('cuda' if torch.cuda.is_available else 'cpu')"
   ]
  },
  {
   "cell_type": "code",
   "execution_count": null,
   "id": "d176b79c",
   "metadata": {
    "colab": {
     "base_uri": "https://localhost:8080/"
    },
    "id": "e8974293-833a-40b9-99fd-2636880fdf24",
    "outputId": "a52c628a-40b9-4795-a9a4-ebdfc3309204"
   },
   "outputs": [],
   "source": [
    "nltk.download(\"stopwords\")"
   ]
  },
  {
   "cell_type": "code",
   "execution_count": null,
   "id": "a919bd72",
   "metadata": {
    "colab": {
     "base_uri": "https://localhost:8080/",
     "height": 204
    },
    "id": "7c799924-5bae-464e-8b0c-36ee90711bcf",
    "outputId": "74f5d641-e1d1-412a-e5ae-6a5eafd695a8"
   },
   "outputs": [],
   "source": [
    "PATH = \"data\"\n",
    "df = pd.read_csv(f'{PATH}//IMDB Dataset.csv')\n",
    "df.head()"
   ]
  },
  {
   "cell_type": "code",
   "execution_count": null,
   "id": "2b768b61",
   "metadata": {
    "id": "6f511ae4-4c77-4d7f-a730-97c0fd01b69d"
   },
   "outputs": [],
   "source": [
    "df['sentiment'] = df['sentiment'].map({'positive': 1, 'negative': 0})"
   ]
  },
  {
   "cell_type": "code",
   "execution_count": null,
   "id": "a739d32e",
   "metadata": {
    "id": "a412ca2d-2fc8-48a8-8971-a31f2881bc23",
    "outputId": "c963814d-2934-4494-b384-098ae2d4cf51"
   },
   "outputs": [],
   "source": [
    "df.loc[0, 'review']"
   ]
  },
  {
   "cell_type": "code",
   "execution_count": null,
   "id": "b753a7bc",
   "metadata": {
    "id": "37a7feae-0c6d-44db-b4bc-0e42692561bd",
    "outputId": "acf28393-f2c0-4962-bcdd-1cb87e5fd920"
   },
   "outputs": [],
   "source": [
    "df.sentiment.value_counts()"
   ]
  },
  {
   "cell_type": "markdown",
   "id": "bf3ff240-8d50-4f8a-88c2-c122b3fa3162",
   "metadata": {},
   "source": [
    "# Visualizations"
   ]
  },
  {
   "cell_type": "code",
   "execution_count": null,
   "id": "24661beb",
   "metadata": {
    "id": "3d084ccb-eb17-4787-b3cc-a166dd544757",
    "outputId": "ed264bc8-9cb7-4671-c2c4-ce47f90be8dd"
   },
   "outputs": [],
   "source": [
    "sns.countplot(data=df, x='sentiment');"
   ]
  },
  {
   "cell_type": "code",
   "execution_count": null,
   "id": "b3084cb6",
   "metadata": {
    "id": "58b7f194-ecd8-4a88-a42f-feaefa35b2ee"
   },
   "outputs": [],
   "source": [
    "wc_stopwords = set(STOPWORDS)\n",
    "wc_stopwords.update([\"br\"])"
   ]
  },
  {
   "cell_type": "code",
   "execution_count": null,
   "id": "6449e263",
   "metadata": {
    "id": "42bbc112-1288-4f61-a18d-4cae1ba96e06"
   },
   "outputs": [],
   "source": [
    "positive_text = df.loc[df['sentiment'] == 1, 'review']\n",
    "positive_text = ' '.join(txt for txt in positive_text.values)\n",
    "\n",
    "negative_text = df.loc[df['sentiment'] == 0, 'review']\n",
    "negative_text = ' '.join(txt for txt in negative_text.values)"
   ]
  },
  {
   "cell_type": "code",
   "execution_count": null,
   "id": "f648da7b",
   "metadata": {
    "id": "1e8decca-d162-4007-a33f-b636aaf02998"
   },
   "outputs": [],
   "source": [
    "def generate_wordcloud(txt):\n",
    "    WC = WordCloud(stopwords=wc_stopwords, width=1000, height=500, max_words=500, min_font_size=5)\n",
    "    wordcloud = WC.generate(txt)\n",
    "    plt.imshow(wordcloud, interpolation='bilinear')\n",
    "    plt.axis('off')\n",
    "    plt.show()"
   ]
  },
  {
   "cell_type": "code",
   "execution_count": null,
   "id": "b2782dd4",
   "metadata": {
    "id": "22b56d01-3256-4784-8d5c-64affe474663",
    "outputId": "925a443a-b9d6-4c65-abec-229ec3a515bc"
   },
   "outputs": [],
   "source": [
    "generate_wordcloud(positive_text)"
   ]
  },
  {
   "cell_type": "code",
   "execution_count": null,
   "id": "ae01c9f5",
   "metadata": {
    "id": "ba123a7a-1a50-43aa-a99c-fe8293725872",
    "outputId": "aaffd561-3a50-4ea4-e5eb-aa694d803ce4"
   },
   "outputs": [],
   "source": [
    "generate_wordcloud(negative_text)"
   ]
  },
  {
   "cell_type": "markdown",
   "id": "25b95aa1",
   "metadata": {
    "id": "37311827-c680-4fa1-8fb1-087d67af2c96"
   },
   "source": [
    "# Logistic Regression"
   ]
  },
  {
   "cell_type": "code",
   "execution_count": null,
   "id": "1c9354d8",
   "metadata": {
    "id": "f62f7da0-f373-4440-89da-4ddcaca71f61"
   },
   "outputs": [],
   "source": [
    "X_train, X_test, y_train, y_test = train_test_split(df['review'],\n",
    "                                                    df['sentiment'],\n",
    "                                                    test_size=0.2,\n",
    "                                                    random_state=42)"
   ]
  },
  {
   "cell_type": "code",
   "execution_count": null,
   "id": "576d16e7",
   "metadata": {
    "id": "ee0beab3-af85-4def-83ab-f06c6d08d963",
    "outputId": "30d4ee8f-8034-4294-d102-fd424ddb0f1e"
   },
   "outputs": [],
   "source": [
    "X_train.head(), y_train.head()"
   ]
  },
  {
   "cell_type": "code",
   "execution_count": null,
   "id": "6dd3ff2c",
   "metadata": {
    "id": "caf8ae7c-f1c4-4741-a610-390627898fca",
    "outputId": "35c4a539-581a-490c-a394-8b8b0d96f67d"
   },
   "outputs": [],
   "source": [
    "X_train.shape, y_train.shape, y_test.shape"
   ]
  },
  {
   "cell_type": "code",
   "execution_count": null,
   "id": "d282eebf",
   "metadata": {
    "id": "0f2ac04d-1821-4711-88f3-f2d44c2eca4d"
   },
   "outputs": [],
   "source": [
    "stopwords_set = set(nltk_stopwords.words('english'))"
   ]
  },
  {
   "cell_type": "code",
   "execution_count": null,
   "id": "732d82bf",
   "metadata": {
    "id": "d97eae2b-82f0-455c-927b-13fafa6f7244"
   },
   "outputs": [],
   "source": [
    "vectorizer = TfidfVectorizer(stop_words=stopwords_set)\n",
    "X_train_tf = vectorizer.fit_transform(X_train)\n",
    "X_test_tf = vectorizer.transform(X_test)"
   ]
  },
  {
   "cell_type": "code",
   "execution_count": null,
   "id": "e94ebfa5",
   "metadata": {},
   "outputs": [],
   "source": [
    "joblib.dump(vectorizer, open('data/vectorizer.joblib', 'wb'))"
   ]
  },
  {
   "cell_type": "code",
   "execution_count": null,
   "id": "b100f6c8",
   "metadata": {},
   "outputs": [],
   "source": [
    "len(vectorizer.vocabulary_)"
   ]
  },
  {
   "cell_type": "code",
   "execution_count": null,
   "id": "ebd4b0f3",
   "metadata": {
    "id": "77b7775d-d8b7-4fb8-94f3-33851296f3ed",
    "outputId": "c00e458e-e410-46cd-fc5d-c309f4a92302"
   },
   "outputs": [],
   "source": [
    "from sklearn.linear_model import LogisticRegression\n",
    "\n",
    "clf = LogisticRegression(random_state=42)\n",
    "clf.fit(X_train_tf, y_train)"
   ]
  },
  {
   "cell_type": "code",
   "execution_count": null,
   "id": "bc30f505",
   "metadata": {},
   "outputs": [],
   "source": [
    "clf.score(X_train_tf, y_train)"
   ]
  },
  {
   "cell_type": "code",
   "execution_count": null,
   "id": "f9220ecc",
   "metadata": {
    "id": "2384a272-94dd-44e2-bd35-3b3facc1cb34",
    "outputId": "ca38d6a8-48f7-4695-cafb-06a66a4c690c"
   },
   "outputs": [],
   "source": [
    "clf.score(X_test_tf, y_test)"
   ]
  },
  {
   "cell_type": "code",
   "execution_count": null,
   "id": "b3806523",
   "metadata": {
    "id": "6b9f2afd-62b1-423f-a862-536cad7edd38"
   },
   "outputs": [],
   "source": [
    "preds = clf.predict(X_test_tf)"
   ]
  },
  {
   "cell_type": "code",
   "execution_count": null,
   "id": "31bda4ce",
   "metadata": {
    "id": "3a6e0dbe-1338-4f86-9753-ac80a4edeaf0",
    "outputId": "e7139610-5716-4621-9658-a4fa4e8ed8c1"
   },
   "outputs": [],
   "source": [
    "from sklearn.metrics import classification_report\n",
    "print(classification_report(y_test, preds))"
   ]
  },
  {
   "cell_type": "code",
   "execution_count": null,
   "id": "14d13470",
   "metadata": {},
   "outputs": [],
   "source": [
    "joblib.dump(clf, open('data/logreg.joblib', 'wb'))"
   ]
  },
  {
   "cell_type": "code",
   "execution_count": null,
   "id": "0bccf769",
   "metadata": {},
   "outputs": [],
   "source": [
    "vocab_names = vectorizer.get_feature_names()\n",
    "len(vocab_names)"
   ]
  },
  {
   "cell_type": "code",
   "execution_count": null,
   "id": "55d812c6",
   "metadata": {},
   "outputs": [],
   "source": [
    "from sklearn.model_selection import cross_val_score, KFold\n",
    "cv = KFold(n_splits=10, shuffle=True, random_state=42)\n",
    "X, y = X_train_tf, y_train\n",
    "cv_score = cross_val_score(clf, X, y, cv=cv)\n",
    "print(np.mean(cv_score))"
   ]
  },
  {
   "cell_type": "code",
   "execution_count": null,
   "id": "b9e93f3e",
   "metadata": {},
   "outputs": [],
   "source": [
    "cv_score"
   ]
  },
  {
   "cell_type": "markdown",
   "id": "74f69f87",
   "metadata": {},
   "source": [
    "# Checking wrong predictions"
   ]
  },
  {
   "cell_type": "code",
   "execution_count": null,
   "id": "a3d9401c",
   "metadata": {},
   "outputs": [],
   "source": [
    "wrong_preds = y_test[y_test != preds]"
   ]
  },
  {
   "cell_type": "code",
   "execution_count": null,
   "id": "9766a8fa",
   "metadata": {},
   "outputs": [],
   "source": [
    "wrong_preds.head()"
   ]
  },
  {
   "cell_type": "code",
   "execution_count": null,
   "id": "960b0f8b",
   "metadata": {},
   "outputs": [],
   "source": [
    "wrong_preds.value_counts()"
   ]
  },
  {
   "cell_type": "code",
   "execution_count": null,
   "id": "7cfc458d",
   "metadata": {
    "colab": {
     "base_uri": "https://localhost:8080/"
    },
    "id": "vhDvU-ZyyJDq",
    "outputId": "e1ca6086-8095-409e-d857-038b90d35012"
   },
   "outputs": [],
   "source": [
    "number_of_reviews = 3\n",
    "indices = [random.choice(wrong_preds.index) for _ in range(number_of_reviews)]\n",
    "\n",
    "for idx in indices:\n",
    "    txt, target = df.loc[idx]\n",
    "    txt = np.array([txt])\n",
    "    txt_tf = vectorizer.transform(txt)\n",
    "    pred_one = clf.predict(txt_tf)[0]\n",
    "    sentiment = class_names[pred_one]\n",
    "    wrapped_txt = \"\\n\".join(wrap(txt[0]))\n",
    "\n",
    "    print(f'Review text:\\n{wrapped_txt}\\n')\n",
    "    print(f'Actual    : {class_names[target]}')\n",
    "    print(f'Predicted : {sentiment}\\n')\n",
    "    # break"
   ]
  },
  {
   "cell_type": "markdown",
   "id": "f3e930f9",
   "metadata": {},
   "source": [
    "## Model Interpretation with ELI5"
   ]
  },
  {
   "cell_type": "code",
   "execution_count": null,
   "id": "704933a1",
   "metadata": {},
   "outputs": [],
   "source": [
    "import eli5\n",
    "\n",
    "eli5.show_weights(estimator=clf, \n",
    "                  feature_names=vocab_names,\n",
    "                  top=(20,20))"
   ]
  },
  {
   "cell_type": "markdown",
   "id": "9dbadafc",
   "metadata": {},
   "source": [
    "## Tuning"
   ]
  },
  {
   "cell_type": "code",
   "execution_count": null,
   "id": "349a7af0",
   "metadata": {},
   "outputs": [],
   "source": [
    "clf.get_params()"
   ]
  },
  {
   "cell_type": "code",
   "execution_count": null,
   "id": "e23ad492",
   "metadata": {},
   "outputs": [],
   "source": [
    "from sklearn.model_selection import RepeatedStratifiedKFold\n",
    "from sklearn.model_selection import GridSearchCV\n",
    "\n",
    "solvers = ['newton-cg', 'lbfgs']\n",
    "penalty = ['l2']\n",
    "c_values = [100, 10, 1.0, 0.1, 0.01]\n",
    "\n",
    "\n",
    "param_grid = dict(solver=solvers,penalty=penalty,C=c_values)\n",
    "cv = RepeatedStratifiedKFold(n_splits=10, n_repeats=3, random_state=1)\n",
    "grid_search = GridSearchCV(estimator=clf, param_grid=param_grid, \n",
    "                           n_jobs=10, cv=cv, scoring='accuracy',\n",
    "                           error_score=0, refit=True, verbose=3\n",
    "                          )\n",
    "grid_result = grid_search.fit(X_train_tf, y_train)\n",
    "\n",
    "\n",
    "print(\"Best: %f using %s\" % (grid_result.best_score_, grid_result.best_params_))\n",
    "means = grid_result.cv_results_['mean_test_score']\n",
    "stds = grid_result.cv_results_['std_test_score']\n",
    "params = grid_result.cv_results_['params']\n",
    "for mean, stdev, param in zip(means, stds, params):\n",
    "    print(\"%f (%f) with: %r\" % (mean, stdev, param))"
   ]
  },
  {
   "cell_type": "code",
   "execution_count": null,
   "id": "b4013ae6",
   "metadata": {},
   "outputs": [],
   "source": [
    "print(\"Best: %f using %s\" % (grid_result.best_score_, grid_result.best_params_))\n",
    "print(f'Test score -> {grid_result.score(X_test_tf, y_test)}')"
   ]
  },
  {
   "cell_type": "markdown",
   "id": "aca0811b",
   "metadata": {},
   "source": [
    "## Other models"
   ]
  },
  {
   "cell_type": "code",
   "execution_count": null,
   "id": "5dc10af5",
   "metadata": {
    "id": "2e5cebe0-9187-4bcd-b23c-6b810e46296a",
    "outputId": "f0bf34b0-035e-4bef-a170-93530d722251"
   },
   "outputs": [],
   "source": [
    "from sklearn.ensemble import RandomForestClassifier\n",
    "\n",
    "clf = RandomForestClassifier(n_jobs=10, random_state=42)\n",
    "clf.fit(X_train_tf, y_train)"
   ]
  },
  {
   "cell_type": "code",
   "execution_count": null,
   "id": "407f07b6",
   "metadata": {
    "id": "82a4c363-8baa-4768-8a44-24cf1feedeb9",
    "outputId": "8fb8f0f4-3072-48c7-dad0-51c6ccd1d55c"
   },
   "outputs": [],
   "source": [
    "depths = [tree.tree_.max_depth for tree in clf.estimators_]\n",
    "print(f\"Mean tree depth in the Random Forest: {np.round(np.mean(depths))}\")"
   ]
  },
  {
   "cell_type": "code",
   "execution_count": null,
   "id": "0250f52a",
   "metadata": {
    "id": "43ff1ba5-b11c-46cc-8d45-4089d5ef511a",
    "outputId": "79a7ac1a-8f39-4493-b21d-1c7528cd6821"
   },
   "outputs": [],
   "source": [
    "clf.score(X_test_tf, y_test)"
   ]
  },
  {
   "cell_type": "code",
   "execution_count": null,
   "id": "7bb3894e",
   "metadata": {
    "id": "4cee521b-9bcb-4d55-89a5-ee59602bba5a"
   },
   "outputs": [],
   "source": [
    "pred = clf.predict(X_test_tf)"
   ]
  },
  {
   "cell_type": "code",
   "execution_count": null,
   "id": "9586db2c",
   "metadata": {
    "id": "5a821472-e2d3-43ab-88ca-5cb14a9149e8",
    "outputId": "7de14745-e889-4e80-cf7f-e5006f62e2be"
   },
   "outputs": [],
   "source": [
    "print(classification_report(y_test, pred))"
   ]
  },
  {
   "cell_type": "code",
   "execution_count": null,
   "id": "3b2fd551",
   "metadata": {
    "id": "0f1e628d-900c-4606-87ce-3e5fec873946"
   },
   "outputs": [],
   "source": [
    "from sklearn.svm import SVC\n",
    "\n",
    "clf = SVC(random_state=42)\n",
    "clf.fit(X_train_tf, y_train)"
   ]
  },
  {
   "cell_type": "code",
   "execution_count": null,
   "id": "c3d97b0d",
   "metadata": {
    "id": "f5fed5ee-9a9a-4d34-ba3e-7ffc881ab60e"
   },
   "outputs": [],
   "source": [
    "clf.score(X_test_tf, y_test)"
   ]
  },
  {
   "cell_type": "code",
   "execution_count": null,
   "id": "a925ad00",
   "metadata": {
    "id": "fe2bd276-2452-4b6d-b040-93aecdb210c4"
   },
   "outputs": [],
   "source": [
    "from sklearn.naive_bayes import MultinomialNB\n",
    "\n",
    "clf = MultinomialNB()\n",
    "clf.fit(X_train_tf, y_train)"
   ]
  },
  {
   "cell_type": "code",
   "execution_count": null,
   "id": "fb8cb8fb",
   "metadata": {
    "id": "5676e7f2-639f-4fee-8386-a41ef803adc5",
    "outputId": "a84d1f89-5b37-4c83-fc79-b0b1f167f2b6"
   },
   "outputs": [],
   "source": [
    "clf.score(X_test_tf, y_test)"
   ]
  },
  {
   "cell_type": "markdown",
   "id": "ea2b013f",
   "metadata": {
    "id": "fb0cf50f-b93b-4884-9251-cfba10cd83e9"
   },
   "source": [
    "# Deep learning model"
   ]
  },
  {
   "cell_type": "markdown",
   "id": "8b72d1cb",
   "metadata": {
    "id": "a0c98ad2-7b6d-4d14-a16b-adebc8744a34"
   },
   "source": [
    "## Preprocessing"
   ]
  },
  {
   "cell_type": "code",
   "execution_count": null,
   "id": "998becc6",
   "metadata": {
    "id": "056d8319-271e-42fc-ac61-37d9236a0348"
   },
   "outputs": [],
   "source": [
    "PRETRAINED_MODEL_NAME = 'distilbert-base-uncased'"
   ]
  },
  {
   "cell_type": "code",
   "execution_count": null,
   "id": "7c3139b3",
   "metadata": {
    "id": "015620b4-028a-4ae5-91aa-ec600d2cea64"
   },
   "outputs": [],
   "source": [
    "from transformers import AutoTokenizer\n",
    "\n",
    "tokenizer = AutoTokenizer.from_pretrained(PRETRAINED_MODEL_NAME)"
   ]
  },
  {
   "cell_type": "code",
   "execution_count": null,
   "id": "e4a56fd0",
   "metadata": {
    "id": "0fd5b11e-0bfb-4049-83fb-fe62591c30f4"
   },
   "outputs": [],
   "source": [
    "sample_txt = 'Is this the real life? Is this just fantasy?'"
   ]
  },
  {
   "cell_type": "code",
   "execution_count": null,
   "id": "6f16b806",
   "metadata": {
    "colab": {
     "base_uri": "https://localhost:8080/"
    },
    "id": "4471c08c-5af7-4e37-8a30-d32ff8f49db4",
    "outputId": "8def6240-9fca-42c9-ca8b-19f66e8f81d2"
   },
   "outputs": [],
   "source": [
    "tokens = tokenizer.tokenize(sample_txt)\n",
    "token_ids = tokenizer.convert_tokens_to_ids(tokens)\n",
    "print(f' Sentence: {sample_txt}')\n",
    "print(f'   Tokens: {tokens}')\n",
    "print(f'Token IDs: {token_ids}')"
   ]
  },
  {
   "cell_type": "code",
   "execution_count": null,
   "id": "3544cde0",
   "metadata": {
    "colab": {
     "base_uri": "https://localhost:8080/"
    },
    "id": "5b80dc66-7b77-476a-95f6-ba8a3fa95ed6",
    "outputId": "7d2d91ca-3a3f-4242-bc56-e5df7550332b"
   },
   "outputs": [],
   "source": [
    "tokenizer.encode(sample_txt)"
   ]
  },
  {
   "cell_type": "code",
   "execution_count": null,
   "id": "6f359bd9",
   "metadata": {
    "colab": {
     "base_uri": "https://localhost:8080/"
    },
    "id": "4e9a64fa-3483-409c-9de7-c82809cdd927",
    "outputId": "8ccbd373-294e-4322-bd43-780b672b00f9"
   },
   "outputs": [],
   "source": [
    "tokenizer(sample_txt, padding=True, truncation=True, return_tensors=\"pt\")"
   ]
  },
  {
   "cell_type": "code",
   "execution_count": null,
   "id": "455ad26e",
   "metadata": {
    "id": "c341ab3f-b988-4eac-acfd-b5c2dc1399d7"
   },
   "outputs": [],
   "source": [
    "encoding = tokenizer.encode_plus(\n",
    "    sample_txt,\n",
    "    max_length=32,\n",
    "    add_special_tokens=True, # Add '[CLS]' and '[SEP]'\n",
    "    return_token_type_ids=False,\n",
    "    pad_to_max_length=True,\n",
    "    return_attention_mask=True,\n",
    "    truncation=True,\n",
    "    return_tensors='pt',  # Return PyTorch tensors\n",
    ")"
   ]
  },
  {
   "cell_type": "code",
   "execution_count": null,
   "id": "a6320b41",
   "metadata": {
    "colab": {
     "base_uri": "https://localhost:8080/"
    },
    "id": "a80b1d05-909e-4a0d-b576-e3f179b4067d",
    "outputId": "77d16a21-7276-4cdd-cf42-e490a809bf52"
   },
   "outputs": [],
   "source": [
    "print(len(encoding['input_ids'][0]))\n",
    "encoding['input_ids'][0]"
   ]
  },
  {
   "cell_type": "code",
   "execution_count": null,
   "id": "fdee9c7b",
   "metadata": {
    "colab": {
     "base_uri": "https://localhost:8080/"
    },
    "id": "37921d01-6171-4efc-9b27-2f28f139db25",
    "outputId": "4d1f8381-89ed-4c0b-c778-64a9b1c5eb3e"
   },
   "outputs": [],
   "source": [
    "print(len(encoding['attention_mask'][0]))\n",
    "encoding['attention_mask']"
   ]
  },
  {
   "cell_type": "code",
   "execution_count": null,
   "id": "a9d3faea",
   "metadata": {
    "colab": {
     "base_uri": "https://localhost:8080/"
    },
    "id": "0f8b546d-0d29-4f16-9192-d3fa9add2ce6",
    "outputId": "aeb49b84-b095-409c-933b-6e9a4ad4d12a"
   },
   "outputs": [],
   "source": [
    "print(tokenizer.convert_ids_to_tokens(encoding['input_ids'][0]))"
   ]
  },
  {
   "cell_type": "code",
   "execution_count": null,
   "id": "730f908d",
   "metadata": {
    "colab": {
     "base_uri": "https://localhost:8080/"
    },
    "id": "f2ecbece-50b5-4a37-a0cd-6eb7c5795265",
    "outputId": "3b8bc18e-f471-4636-8a71-2e8e86226d64"
   },
   "outputs": [],
   "source": [
    "token_lens = []\n",
    "for txt in df.review:\n",
    "    tokens = tokenizer.encode(txt, max_length=1024)\n",
    "    token_lens.append(len(tokens))"
   ]
  },
  {
   "cell_type": "code",
   "execution_count": null,
   "id": "4956f6a1",
   "metadata": {
    "id": "10f2221d-9d3b-4f97-a9e6-16e35ffb07e4",
    "outputId": "6e47b030-7110-4eaf-947a-9ab3ec9fb2f5"
   },
   "outputs": [],
   "source": [
    "sns.distplot(token_lens)\n",
    "plt.xlim([0, 1024])\n",
    "plt.xlabel('Token count');"
   ]
  },
  {
   "cell_type": "code",
   "execution_count": null,
   "id": "14e94ce7",
   "metadata": {
    "colab": {
     "base_uri": "https://localhost:8080/"
    },
    "id": "03c71ff3-092a-4805-8c2b-0940e114e425",
    "outputId": "8776a7df-91d0-481b-8ef2-2ce8d8e69081"
   },
   "outputs": [],
   "source": [
    "# max length of words in one review\n",
    "df.review.str.split().apply(len).max()"
   ]
  },
  {
   "cell_type": "code",
   "execution_count": null,
   "id": "5acd971e",
   "metadata": {
    "id": "2288b1d5-cb4f-4ce9-9a50-6aaf1fdc038f"
   },
   "outputs": [],
   "source": [
    "# arbitrary number based on the max token count,\n",
    "# avoiding long reviews...\n",
    "MAX_LEN = 512"
   ]
  },
  {
   "cell_type": "code",
   "execution_count": null,
   "id": "dbaac204",
   "metadata": {
    "id": "97f2f007-10c3-4a8e-a64b-fe6e4e658998"
   },
   "outputs": [],
   "source": [
    "encoding = tokenizer(sample_txt,\n",
    "                     padding='max_length',\n",
    "                     truncation=True,\n",
    "                     max_length=MAX_LEN,\n",
    "                     return_tensors=\"pt\")"
   ]
  },
  {
   "cell_type": "code",
   "execution_count": null,
   "id": "4afa98e1",
   "metadata": {
    "colab": {
     "base_uri": "https://localhost:8080/"
    },
    "id": "d711ebd1-a14d-4097-9a03-db205cea998d",
    "outputId": "7aef82cf-bc02-4d45-e9a1-8b38228a8ee3"
   },
   "outputs": [],
   "source": [
    "encoding.keys()"
   ]
  },
  {
   "cell_type": "markdown",
   "id": "a5277912",
   "metadata": {
    "id": "d98fe647-39d3-441d-a921-23fa6a273342"
   },
   "source": [
    "## Dataset and DataLoader"
   ]
  },
  {
   "cell_type": "code",
   "execution_count": null,
   "id": "9cd89cc3",
   "metadata": {
    "id": "15257ea0-1f29-4f57-93ab-d698ed057ab8"
   },
   "outputs": [],
   "source": [
    "from torch import nn\n",
    "from torch.utils.data import Dataset, DataLoader\n",
    "\n",
    "class ReviewDataset(Dataset):\n",
    "    def __init__(self, reviews, sentiments, tokenizer, max_len):\n",
    "        self.reviews = reviews\n",
    "        self.sentiments = sentiments\n",
    "        self.tokenizer = tokenizer\n",
    "        self.max_len = max_len\n",
    "        \n",
    "    def __len__(self):\n",
    "        return len(self.reviews)\n",
    "    \n",
    "    def __getitem__(self, item):\n",
    "        review = str(self.reviews[item])\n",
    "        sentiment = self.sentiments[item]\n",
    "        \n",
    "        encoding = tokenizer(review,\n",
    "                             padding='max_length',\n",
    "                             truncation=True,\n",
    "                             max_length=self.max_len,\n",
    "                             return_tensors=\"pt\")\n",
    "        \n",
    "        return {\n",
    "            'review': review,\n",
    "            'input_ids': encoding['input_ids'].flatten(),\n",
    "            'attention_mask': encoding['attention_mask'].flatten(),\n",
    "            'targets': torch.tensor(sentiment, dtype=torch.long)\n",
    "        }"
   ]
  },
  {
   "cell_type": "code",
   "execution_count": null,
   "id": "adb7ab02",
   "metadata": {
    "colab": {
     "base_uri": "https://localhost:8080/"
    },
    "id": "acd3c6d2-204a-48d1-87c5-9c8f9688a40c",
    "outputId": "e5a088ca-5a6e-4161-8d82-3af98f463159"
   },
   "outputs": [],
   "source": [
    "ds = ReviewDataset(\n",
    "    reviews=df.review.to_numpy(),\n",
    "    sentiments=df.sentiment.to_numpy(),\n",
    "    tokenizer=tokenizer,\n",
    "    max_len=MAX_LEN\n",
    ")\n",
    "ds[0].keys()"
   ]
  },
  {
   "cell_type": "code",
   "execution_count": null,
   "id": "adffca5f",
   "metadata": {
    "colab": {
     "base_uri": "https://localhost:8080/"
    },
    "id": "ef7a5bd8-aac2-4a68-8bbc-17d949905736",
    "outputId": "ebdbe717-8f83-4b42-fb6c-f012903d4e84"
   },
   "outputs": [],
   "source": [
    "df_train, df_test = train_test_split(df,\n",
    "                                     test_size=0.2,\n",
    "                                     stratify=df.sentiment.values,\n",
    "                                     random_state=42\n",
    "                                    )\n",
    "df_val, df_test = train_test_split(df_test,\n",
    "                                   test_size=0.5,\n",
    "                                   stratify=df_test.sentiment.values,\n",
    "                                   random_state=42\n",
    "                                  )\n",
    "df_train.shape, df_val.shape, df_test.shape"
   ]
  },
  {
   "cell_type": "code",
   "execution_count": null,
   "id": "1b61343e",
   "metadata": {
    "colab": {
     "base_uri": "https://localhost:8080/"
    },
    "id": "1c96fff4-c7d5-4180-b2e5-19680e42fe75",
    "outputId": "9c463474-901f-4d01-8113-056a0c4b5041"
   },
   "outputs": [],
   "source": [
    "df_train.sentiment.value_counts(), df_val.sentiment.value_counts(), df_test.sentiment.value_counts()"
   ]
  },
  {
   "cell_type": "code",
   "execution_count": null,
   "id": "842c8e53",
   "metadata": {
    "id": "42a0c212-acc9-410a-bc3a-272369efceba"
   },
   "outputs": [],
   "source": [
    "def create_dl(df, tokenizer, max_len, batch_size):\n",
    "    ds = ReviewDataset(\n",
    "        reviews=df.review.to_numpy(),\n",
    "        sentiments=df.sentiment.to_numpy(),\n",
    "        tokenizer=tokenizer,\n",
    "        max_len=max_len\n",
    "    )\n",
    "    \n",
    "    return DataLoader(\n",
    "        ds,\n",
    "        batch_size=batch_size\n",
    "    )"
   ]
  },
  {
   "cell_type": "code",
   "execution_count": null,
   "id": "d9ffe060",
   "metadata": {
    "id": "4051a6dc-6e9c-4d9a-ba36-795780390aa3"
   },
   "outputs": [],
   "source": [
    "BATCH_SIZE = 32\n",
    "\n",
    "train_data_loader = create_dl(df_train, tokenizer, MAX_LEN, BATCH_SIZE)\n",
    "val_data_loader = create_dl(df_val, tokenizer, MAX_LEN, BATCH_SIZE)\n",
    "test_data_loader = create_dl(df_test, tokenizer, MAX_LEN, BATCH_SIZE)"
   ]
  },
  {
   "cell_type": "code",
   "execution_count": null,
   "id": "89c52617",
   "metadata": {
    "colab": {
     "base_uri": "https://localhost:8080/"
    },
    "id": "a2276e49-33a4-408e-ac6e-3dde88c1ad18",
    "outputId": "56ea0970-d058-43c5-e99e-a12a25ffc2c1"
   },
   "outputs": [],
   "source": [
    "data = next(iter(train_data_loader))\n",
    "data.keys()"
   ]
  },
  {
   "cell_type": "code",
   "execution_count": null,
   "id": "f49fb528",
   "metadata": {
    "colab": {
     "base_uri": "https://localhost:8080/"
    },
    "id": "6ef8fa5c-4eb9-49b5-97c6-89811ce72c39",
    "outputId": "05a5137e-7bdb-401d-b7e0-ed9d93d51b9d"
   },
   "outputs": [],
   "source": [
    "print(data['input_ids'].shape)\n",
    "print(data['attention_mask'].shape)\n",
    "print(data['targets'].shape)"
   ]
  },
  {
   "cell_type": "code",
   "execution_count": null,
   "id": "c32465ed",
   "metadata": {
    "id": "97f2f007-10c3-4a8e-a64b-fe6e4e658998"
   },
   "outputs": [],
   "source": [
    "encoding = tokenizer(data['review'],\n",
    "                     padding='max_length',\n",
    "                     truncation=True,\n",
    "                     max_length=MAX_LEN,\n",
    "                     return_tensors=\"pt\")"
   ]
  },
  {
   "cell_type": "code",
   "execution_count": null,
   "id": "92c94763",
   "metadata": {
    "tags": []
   },
   "outputs": [],
   "source": [
    "vocab = tokenizer.get_vocab()\n",
    "len(vocab)"
   ]
  },
  {
   "cell_type": "code",
   "execution_count": null,
   "id": "700645da",
   "metadata": {},
   "outputs": [],
   "source": [
    "inv_voc = {v: k for k, v in vocab.items()}"
   ]
  },
  {
   "cell_type": "code",
   "execution_count": null,
   "id": "14366d77",
   "metadata": {},
   "outputs": [],
   "source": [
    "list(inv_voc.items())[:5]"
   ]
  },
  {
   "cell_type": "code",
   "execution_count": null,
   "id": "629f6bcc",
   "metadata": {},
   "outputs": [],
   "source": [
    "data['review'][0]"
   ]
  },
  {
   "cell_type": "code",
   "execution_count": null,
   "id": "3fa37cda",
   "metadata": {},
   "outputs": [],
   "source": [
    "\" \".join(inv_voc[i] for i in encoding[\"input_ids\"][0].numpy())"
   ]
  },
  {
   "cell_type": "markdown",
   "id": "db7b36e1",
   "metadata": {
    "id": "51d5ed24-c195-40f8-a88b-20dd9370e00a"
   },
   "source": [
    "# DistilBert Model building"
   ]
  },
  {
   "cell_type": "code",
   "execution_count": null,
   "id": "1700cef6",
   "metadata": {
    "id": "e801001f-af5e-47af-96fa-1b29ecd310d0"
   },
   "outputs": [],
   "source": [
    "from transformers import AutoModel\n",
    "\n",
    "model = AutoModel.from_pretrained(PRETRAINED_MODEL_NAME)"
   ]
  },
  {
   "cell_type": "code",
   "execution_count": null,
   "id": "94522793",
   "metadata": {
    "id": "5ef90c39-9352-4f31-8aa4-dae7faa730c9"
   },
   "outputs": [],
   "source": [
    "output = model(**encoding)"
   ]
  },
  {
   "cell_type": "code",
   "execution_count": null,
   "id": "639bc4eb",
   "metadata": {
    "colab": {
     "base_uri": "https://localhost:8080/"
    },
    "id": "c3b02f9e-1a1e-4341-a36a-201708ccd760",
    "outputId": "4ae3c24c-e2f5-470b-fe78-e3cc1eae99b8"
   },
   "outputs": [],
   "source": [
    "print(dir(output))"
   ]
  },
  {
   "cell_type": "code",
   "execution_count": null,
   "id": "e62e998c",
   "metadata": {
    "colab": {
     "base_uri": "https://localhost:8080/"
    },
    "id": "1ca2a590-c045-4af5-8711-84cc86d897a1",
    "outputId": "ba4468bb-ab61-4ab6-8b02-e86bd112e398"
   },
   "outputs": [],
   "source": [
    "output['last_hidden_state'].shape"
   ]
  },
  {
   "cell_type": "code",
   "execution_count": null,
   "id": "933ab593",
   "metadata": {
    "colab": {
     "base_uri": "https://localhost:8080/"
    },
    "id": "684fdc5c-8625-4669-930c-d04c897e9561",
    "outputId": "6da8d0ac-9307-4e76-f021-62d411895e67"
   },
   "outputs": [],
   "source": [
    "output[0].shape"
   ]
  },
  {
   "cell_type": "code",
   "execution_count": null,
   "id": "5d093553",
   "metadata": {
    "colab": {
     "base_uri": "https://localhost:8080/"
    },
    "id": "HVWb790lENSb",
    "outputId": "78043bd4-4bb7-4e50-803d-51622737f360"
   },
   "outputs": [],
   "source": [
    "output[0][:, 0].shape"
   ]
  },
  {
   "cell_type": "code",
   "execution_count": null,
   "id": "af4ac5f4",
   "metadata": {
    "colab": {
     "base_uri": "https://localhost:8080/"
    },
    "id": "6236de2a-c350-43a7-91ca-0656f15f2909",
    "outputId": "cd6f1a46-4ef9-4023-a85d-4256ab5e62e4"
   },
   "outputs": [],
   "source": [
    "model.config.hidden_size"
   ]
  },
  {
   "cell_type": "code",
   "execution_count": null,
   "id": "ec72cadf",
   "metadata": {
    "id": "8d278630-e731-4929-9dd9-61d20a37c322"
   },
   "outputs": [],
   "source": [
    "# based on https://www.kaggle.com/alexalex02/sentiment-analysis-distilbert-amazon-reviews/notebook\n",
    "\n",
    "from transformers import AutoConfig, AutoModel\n",
    "\n",
    "class DistilBert(nn.Module):\n",
    "\n",
    "    def __init__(self, pretrained_model_name=PRETRAINED_MODEL_NAME, num_classes=2):\n",
    "        super().__init__()\n",
    "        config = AutoConfig.from_pretrained(pretrained_model_name)\n",
    "\n",
    "        self.distilbert = AutoModel.from_pretrained(pretrained_model_name,\n",
    "                                                    config=config)\n",
    "        self.pre_classifier = nn.Linear(config.dim, config.dim)\n",
    "        self.dropout = nn.Dropout(config.seq_classif_dropout)\n",
    "        self.out = nn.Linear(config.dim, num_classes)\n",
    "\n",
    "    def forward(self, input_ids, attention_mask=None, head_mask=None):\n",
    "        assert attention_mask is not None, \"attention mask is none\"\n",
    "        \n",
    "        model_output = self.distilbert(input_ids=input_ids,\n",
    "                                       attention_mask=attention_mask,\n",
    "                                       head_mask=head_mask)\n",
    "        hidden_state = model_output[0]  # [BATCH_SIZE=BS, MAX_SEQ_LENGTH = 512, DIM = 768]\n",
    "        # get the first token as pooled_output\n",
    "        pooled_output = hidden_state[:, 0]  # [BS, 768]\n",
    "        pooled_output = self.pre_classifier(pooled_output)  # [BS, 768]\n",
    "        pooled_output = F.relu(pooled_output)  # [BS, 768]\n",
    "        pooled_output = self.dropout(pooled_output)  # [BS, 768]\n",
    "        output = self.out(pooled_output)  # [BS, 2]\n",
    "\n",
    "        return output"
   ]
  },
  {
   "cell_type": "code",
   "execution_count": null,
   "id": "5ec377f6",
   "metadata": {
    "id": "0ab4ce8b-9ae6-4d45-b688-410f36b9d0b2"
   },
   "outputs": [],
   "source": [
    "device = torch.device('cuda')"
   ]
  },
  {
   "cell_type": "code",
   "execution_count": null,
   "id": "4eb27918",
   "metadata": {
    "id": "c7a2ca3e-ad35-4046-9a86-e73187e49763"
   },
   "outputs": [],
   "source": [
    "model = DistilBert(num_classes=2)\n",
    "model = model.to(device)"
   ]
  },
  {
   "cell_type": "code",
   "execution_count": null,
   "id": "0d0adfbf",
   "metadata": {
    "colab": {
     "base_uri": "https://localhost:8080/"
    },
    "id": "9590e009-15fa-45a4-bdaf-54a1f5fb8c85",
    "outputId": "76c19dd5-009b-4c8c-eee5-8a72e574828c"
   },
   "outputs": [],
   "source": [
    "input_ids = data['input_ids'].to(device)\n",
    "attention_mask = data['attention_mask'].to(device)\n",
    "targets = data['targets'].to(device)\n",
    "\n",
    "print(input_ids.shape) # batch size x seq length\n",
    "print(attention_mask.shape) # batch size x seq length"
   ]
  },
  {
   "cell_type": "code",
   "execution_count": null,
   "id": "deed26ec",
   "metadata": {
    "colab": {
     "base_uri": "https://localhost:8080/"
    },
    "id": "0-M3K6LOCsOO",
    "outputId": "cd093a24-b8d2-4ebe-adf6-988802734421"
   },
   "outputs": [],
   "source": [
    "with torch.no_grad():\n",
    "    output = model(input_ids, attention_mask)\n",
    "    print(torch.max(F.softmax(output.detach(), dim=1), dim=1))"
   ]
  },
  {
   "cell_type": "code",
   "execution_count": null,
   "id": "125c776b",
   "metadata": {
    "colab": {
     "base_uri": "https://localhost:8080/"
    },
    "id": "4b35x8CLnwMY",
    "outputId": "92c24394-ad0b-4f5d-b2da-ae44d2a2b71c"
   },
   "outputs": [],
   "source": [
    "output.shape"
   ]
  },
  {
   "cell_type": "code",
   "execution_count": null,
   "id": "fd1c75c7",
   "metadata": {
    "colab": {
     "base_uri": "https://localhost:8080/"
    },
    "id": "hrQ_yH9poHYv",
    "outputId": "ad115daa-a7a1-4ae2-e073-d54487882dfe"
   },
   "outputs": [],
   "source": [
    "output[:5]"
   ]
  },
  {
   "cell_type": "code",
   "execution_count": null,
   "id": "47488767",
   "metadata": {
    "id": "pr0q6KNCnpxZ"
   },
   "outputs": [],
   "source": [
    "a, b = torch.max(output, dim=1)"
   ]
  },
  {
   "cell_type": "code",
   "execution_count": null,
   "id": "f3315e6f",
   "metadata": {
    "colab": {
     "base_uri": "https://localhost:8080/"
    },
    "id": "ixWvUJlHoC-T",
    "outputId": "16db00f3-eed0-4096-e621-3dc75cd33725"
   },
   "outputs": [],
   "source": [
    "a, b"
   ]
  },
  {
   "cell_type": "code",
   "execution_count": null,
   "id": "487a08a5",
   "metadata": {
    "colab": {
     "base_uri": "https://localhost:8080/"
    },
    "id": "tcAp2upZoWt0",
    "outputId": "281c6aee-9a5f-4f3a-de61-ee77c1728195"
   },
   "outputs": [],
   "source": [
    "targets"
   ]
  },
  {
   "cell_type": "code",
   "execution_count": null,
   "id": "54e834fa",
   "metadata": {
    "colab": {
     "base_uri": "https://localhost:8080/"
    },
    "id": "8xes7kproa-Y",
    "outputId": "899f56e9-5902-40ba-ab4f-e22264596289"
   },
   "outputs": [],
   "source": [
    "torch.sum(b == targets)"
   ]
  },
  {
   "cell_type": "code",
   "execution_count": null,
   "id": "aa652455",
   "metadata": {
    "colab": {
     "base_uri": "https://localhost:8080/"
    },
    "id": "DekDOMbECJnk",
    "outputId": "75e7a291-1ce0-4925-ce98-ba71f48b510d"
   },
   "outputs": [],
   "source": [
    "!nvidia-smi"
   ]
  },
  {
   "cell_type": "markdown",
   "id": "257293c8",
   "metadata": {
    "id": "CGdPi3q5LRG5"
   },
   "source": [
    "## Training"
   ]
  },
  {
   "cell_type": "code",
   "execution_count": null,
   "id": "e43c6849",
   "metadata": {
    "id": "XReHhyMmFxM1"
   },
   "outputs": [],
   "source": [
    "from transformers import AdamW, get_linear_schedule_with_warmup\n",
    "\n",
    "EPOCHS = 2\n",
    "\n",
    "optimizer = AdamW(model.parameters(), lr=2e-5, correct_bias=False)\n",
    "total_steps = len(train_data_loader) * EPOCHS\n",
    "\n",
    "scheduler = get_linear_schedule_with_warmup(\n",
    "  optimizer,\n",
    "  num_warmup_steps=0,\n",
    "  num_training_steps=total_steps\n",
    ")\n",
    "\n",
    "loss_fn = nn.CrossEntropyLoss().to(device)"
   ]
  },
  {
   "cell_type": "code",
   "execution_count": null,
   "id": "1ad2dec8",
   "metadata": {
    "id": "xglWePQ2Gwp5"
   },
   "outputs": [],
   "source": [
    "def train_epoch(\n",
    "    model,\n",
    "    data_loader,\n",
    "    loss_fn,\n",
    "    optimizer,\n",
    "    device,\n",
    "    scheduler,\n",
    "    n_examples\n",
    "    ):\n",
    "\n",
    "    model = model.train()\n",
    "    losses = []\n",
    "    correct_predictions = 0\n",
    "\n",
    "    for dl in data_loader:\n",
    "        input_ids = dl[\"input_ids\"].to(device)\n",
    "        attention_mask = dl[\"attention_mask\"].to(device)\n",
    "        targets = dl[\"targets\"].to(device)\n",
    "        outputs = model(\n",
    "            input_ids=input_ids,\n",
    "            attention_mask=attention_mask\n",
    "        )\n",
    "\n",
    "        _, preds = torch.max(outputs, dim=1)\n",
    "        loss = loss_fn(outputs, targets)\n",
    "        correct_predictions += torch.sum(preds == targets)\n",
    "\n",
    "        losses.append(loss.item())\n",
    "        loss.backward()\n",
    "\n",
    "        nn.utils.clip_grad_norm_(model.parameters(), max_norm=1.0)\n",
    "        optimizer.step()\n",
    "        scheduler.step()\n",
    "        optimizer.zero_grad()\n",
    "\n",
    "    return correct_predictions.double() / n_examples, np.mean(losses)"
   ]
  },
  {
   "cell_type": "code",
   "execution_count": null,
   "id": "0c493269",
   "metadata": {
    "id": "M0sI5PcrHKcM"
   },
   "outputs": [],
   "source": [
    "def eval_model(\n",
    "    model,\n",
    "    data_loader,\n",
    "    loss_fn,\n",
    "    device,\n",
    "    n_examples\n",
    "    ):\n",
    "\n",
    "    model = model.eval()\n",
    "\n",
    "    losses = []\n",
    "    correct_predictions = 0\n",
    "\n",
    "    with torch.no_grad():\n",
    "        for dl in data_loader:\n",
    "            input_ids = dl[\"input_ids\"].to(device)\n",
    "            attention_mask = dl[\"attention_mask\"].to(device)\n",
    "            targets = dl[\"targets\"].to(device)\n",
    "            outputs = model(\n",
    "                input_ids=input_ids,\n",
    "                attention_mask=attention_mask\n",
    "                )\n",
    "            \n",
    "            _, preds = torch.max(outputs, dim=1)\n",
    "            loss = loss_fn(outputs, targets)\n",
    "            correct_predictions += torch.sum(preds == targets)\n",
    "            losses.append(loss.item())\n",
    "            \n",
    "    return correct_predictions.double() / n_examples, np.mean(losses)"
   ]
  },
  {
   "cell_type": "code",
   "execution_count": null,
   "id": "f34cab4c",
   "metadata": {
    "colab": {
     "base_uri": "https://localhost:8080/"
    },
    "id": "-4e_q1v8IGJ3",
    "outputId": "580f3d44-235c-4441-c706-fedf2f962e34"
   },
   "outputs": [],
   "source": [
    "%%time\n",
    "\n",
    "from collections import defaultdict\n",
    "history = defaultdict(list)\n",
    "best_acc = 0\n",
    "\n",
    "for epoch in range(EPOCHS):\n",
    "    print(f'Epoch {epoch + 1}/{EPOCHS}')\n",
    "    print('-' * 10)\n",
    "\n",
    "    train_acc, train_loss = train_epoch(\n",
    "        model,\n",
    "        train_data_loader,\n",
    "        loss_fn,\n",
    "        optimizer,\n",
    "        device,\n",
    "        scheduler,\n",
    "        len(df_train)\n",
    "        )\n",
    "    print(f'Train loss {train_loss} accuracy {train_acc}')\n",
    "\n",
    "    val_acc, val_loss = eval_model(\n",
    "        model,\n",
    "        val_data_loader,\n",
    "        loss_fn,\n",
    "        device,\n",
    "        len(df_val)\n",
    "        )\n",
    "    print(f'Val   loss {val_loss} accuracy {val_acc}')\n",
    "    print()\n",
    "\n",
    "    history['train_acc'].append(train_acc)\n",
    "    history['train_loss'].append(train_loss)\n",
    "    history['val_acc'].append(val_acc)\n",
    "    history['val_loss'].append(val_loss)\n",
    "\n",
    "    if val_acc > best_acc:\n",
    "        torch.save(model.state_dict(), f'{PATH}//best_model_state.bin')\n",
    "        best_acc = val_acc"
   ]
  },
  {
   "cell_type": "code",
   "execution_count": null,
   "id": "6f6b1be0",
   "metadata": {
    "colab": {
     "base_uri": "https://localhost:8080/",
     "height": 632
    },
    "id": "CcK7ifyZJPyw",
    "outputId": "19368071-4e38-44dc-f8c9-352644e0ef9f"
   },
   "outputs": [],
   "source": [
    "plt.plot(history['train_acc'], label='Training accuracy')\n",
    "plt.plot(history['val_acc'], label='Validation accuracy')\n",
    "\n",
    "plt.title('Training history')\n",
    "plt.ylabel('Accuracy')\n",
    "plt.xlabel('Epoch')\n",
    "plt.legend();"
   ]
  },
  {
   "cell_type": "markdown",
   "id": "ddc1e408",
   "metadata": {
    "id": "sz18llspLV04"
   },
   "source": [
    "# Evaluation"
   ]
  },
  {
   "cell_type": "code",
   "execution_count": null,
   "id": "31b17f09",
   "metadata": {},
   "outputs": [],
   "source": [
    "state_dict_path = 'data//best_model_state.bin'\n",
    "class_names = ['negative', 'positive']\n",
    "PRETRAINED_MODEL_NAME = 'distilbert-base-uncased'"
   ]
  },
  {
   "cell_type": "code",
   "execution_count": null,
   "id": "fbb2e317",
   "metadata": {},
   "outputs": [],
   "source": [
    "model = DistilBert(PRETRAINED_MODEL_NAME, len(class_names))\n",
    "model.load_state_dict(\n",
    "    torch.load(state_dict_path, map_location=device)\n",
    ")\n",
    "model = model.to(device)\n",
    "model = model.eval()"
   ]
  },
  {
   "cell_type": "code",
   "execution_count": null,
   "id": "4239f04b",
   "metadata": {},
   "outputs": [],
   "source": [
    "loss_fn = nn.CrossEntropyLoss().to(device)"
   ]
  },
  {
   "cell_type": "code",
   "execution_count": null,
   "id": "47c37b68",
   "metadata": {
    "colab": {
     "base_uri": "https://localhost:8080/"
    },
    "id": "4Cx--70SJyDO",
    "outputId": "90579dcc-2309-43cb-823b-7706524ee49a"
   },
   "outputs": [],
   "source": [
    "test_acc, _ = eval_model(\n",
    "    model,\n",
    "    test_data_loader,\n",
    "    loss_fn,\n",
    "    device,\n",
    "    len(df_test)\n",
    "    )\n",
    "\n",
    "test_acc.item()"
   ]
  },
  {
   "cell_type": "code",
   "execution_count": null,
   "id": "3bf1ee96",
   "metadata": {
    "colab": {
     "base_uri": "https://localhost:8080/"
    },
    "id": "GX2jBDG7J4On",
    "outputId": "27ab7bbd-c6ad-4df7-e7c1-85c53eab615c"
   },
   "outputs": [],
   "source": [
    "test_acc"
   ]
  },
  {
   "cell_type": "code",
   "execution_count": null,
   "id": "f9eaafbb",
   "metadata": {
    "colab": {
     "base_uri": "https://localhost:8080/"
    },
    "id": "ClfqHeRRkn4s",
    "outputId": "ae1c5f64-963a-4d61-a7d5-34dfa0ebbc15"
   },
   "outputs": [],
   "source": [
    "next(iter(test_data_loader)).keys()"
   ]
  },
  {
   "cell_type": "code",
   "execution_count": null,
   "id": "1a242f06",
   "metadata": {
    "id": "GeAnosKOJ-Ku"
   },
   "outputs": [],
   "source": [
    "def get_predictions(model, data_loader):\n",
    "  model = model.eval()\n",
    "  \n",
    "  review_texts = []\n",
    "  predictions = []\n",
    "  prediction_probs = []\n",
    "  real_preds = []\n",
    "\n",
    "  with torch.no_grad():\n",
    "    for d in data_loader:\n",
    "\n",
    "      texts = d[\"review\"]\n",
    "      input_ids = d[\"input_ids\"].to(device)\n",
    "      attention_mask = d[\"attention_mask\"].to(device)\n",
    "      targets = d[\"targets\"].to(device)\n",
    "\n",
    "      outputs = model(\n",
    "        input_ids=input_ids,\n",
    "        attention_mask=attention_mask\n",
    "      )\n",
    "      _, preds = torch.max(outputs, dim=1)\n",
    "\n",
    "      probs = F.softmax(outputs, dim=1)\n",
    "\n",
    "      review_texts.extend(texts)\n",
    "      predictions.extend(preds)\n",
    "      prediction_probs.extend(probs)\n",
    "      real_preds.extend(targets)\n",
    "\n",
    "  predictions = torch.stack(predictions).cpu()\n",
    "  prediction_probs = torch.stack(prediction_probs).cpu()\n",
    "  real_preds = torch.stack(real_preds).cpu()\n",
    "  return review_texts, predictions, prediction_probs, real_preds"
   ]
  },
  {
   "cell_type": "code",
   "execution_count": null,
   "id": "55504917",
   "metadata": {
    "id": "zvMmiD3LKNCX"
   },
   "outputs": [],
   "source": [
    "y_review, y_pred, y_pred_probs, y_test = get_predictions(\n",
    "  model,\n",
    "  test_data_loader\n",
    ")"
   ]
  },
  {
   "cell_type": "code",
   "execution_count": null,
   "id": "462118e7",
   "metadata": {
    "colab": {
     "base_uri": "https://localhost:8080/"
    },
    "id": "hF_VjTpPKP3M",
    "outputId": "502a016d-bcc0-4e5d-9ecd-c47089c68b51"
   },
   "outputs": [],
   "source": [
    "from sklearn.metrics import classification_report\n",
    "\n",
    "class_names = ['negative', 'positive']\n",
    "print(classification_report(y_test, y_pred, target_names=class_names))"
   ]
  },
  {
   "cell_type": "code",
   "execution_count": null,
   "id": "30460e8a",
   "metadata": {
    "colab": {
     "base_uri": "https://localhost:8080/",
     "height": 399
    },
    "id": "SaF6Mv_fKcrj",
    "outputId": "a3a949ca-c3a3-4df4-b5b8-b190c0d22a31"
   },
   "outputs": [],
   "source": [
    "from sklearn.metrics import confusion_matrix\n",
    "\n",
    "def show_confusion_matrix(confusion_matrix):\n",
    "    plt.figure(figsize=(8, 6))\n",
    "    sns.heatmap(confusion_matrix, annot=True, fmt=\"d\", cmap=\"Blues\")\n",
    "    plt.ylabel('True sentiment')\n",
    "    plt.xlabel('Predicted sentiment');\n",
    "\n",
    "cm = confusion_matrix(y_test, y_pred)\n",
    "df_cm = pd.DataFrame(cm, index=class_names, columns=class_names)\n",
    "show_confusion_matrix(df_cm)"
   ]
  },
  {
   "cell_type": "code",
   "execution_count": null,
   "id": "060036e7",
   "metadata": {
    "colab": {
     "base_uri": "https://localhost:8080/",
     "height": 145
    },
    "id": "6BMa-NsJme1v",
    "outputId": "62595515-6924-442a-fb94-83679b35ea14"
   },
   "outputs": [],
   "source": [
    "print(cm); display(df_cm)"
   ]
  },
  {
   "cell_type": "markdown",
   "id": "24008826",
   "metadata": {
    "id": "7ZEGcFptLJhR"
   },
   "source": [
    "# Predicting Random Reviews"
   ]
  },
  {
   "cell_type": "code",
   "execution_count": null,
   "id": "06868b60",
   "metadata": {
    "id": "S_4joAQnKu36"
   },
   "outputs": [],
   "source": [
    "import random\n",
    "\n",
    "idx = random.randint(0, len(y_test))\n",
    "\n",
    "review = y_review[idx]\n",
    "true_sentiment = y_test[idx]\n",
    "pred_df = pd.DataFrame({\n",
    "    'class_names': class_names,\n",
    "    'values': y_pred_probs[idx]\n",
    "    })"
   ]
  },
  {
   "cell_type": "code",
   "execution_count": null,
   "id": "bec00dbf",
   "metadata": {
    "colab": {
     "base_uri": "https://localhost:8080/"
    },
    "id": "xCTuIQYRSxl7",
    "outputId": "ba3f0049-e219-4072-cc33-86a777653c5d"
   },
   "outputs": [],
   "source": [
    "from textwrap import wrap\n",
    "\n",
    "print(\"\\n\".join(wrap(review)))\n",
    "print()\n",
    "print(f'True sentiment: {class_names[true_sentiment]}')"
   ]
  },
  {
   "cell_type": "code",
   "execution_count": null,
   "id": "9010e8f5",
   "metadata": {
    "colab": {
     "base_uri": "https://localhost:8080/",
     "height": 344
    },
    "id": "k79Cw-owlHQL",
    "outputId": "1a304d1a-4e44-4be7-a501-809d4ebd58b1"
   },
   "outputs": [],
   "source": [
    "plt.figure(figsize=(8, 5))\n",
    "sns.barplot(x='values', y='class_names', data=pred_df)\n",
    "plt.ylabel('sentiment')\n",
    "plt.xlabel('probability');"
   ]
  },
  {
   "cell_type": "code",
   "execution_count": null,
   "id": "1dac1176",
   "metadata": {
    "id": "XTKGNwJHLJUm"
   },
   "outputs": [],
   "source": [
    "idx = random.randint(0, len(df))\n",
    "review = df.review[idx]\n",
    "\n",
    "encoded_review = tokenizer(\n",
    "    review,\n",
    "    padding='max_length',\n",
    "    truncation=True,\n",
    "    max_length=MAX_LEN,\n",
    "    return_tensors=\"pt\")"
   ]
  },
  {
   "cell_type": "code",
   "execution_count": null,
   "id": "b5081770",
   "metadata": {
    "colab": {
     "base_uri": "https://localhost:8080/"
    },
    "id": "i8gnQdjfQtCw",
    "outputId": "a9c96b7b-59c7-4a89-f59d-b2778c796a2b"
   },
   "outputs": [],
   "source": [
    "input_ids = encoded_review['input_ids'].to(device)\n",
    "attention_mask = encoded_review['attention_mask'].to(device)\n",
    "\n",
    "with torch.no_grad():\n",
    "    output = model(input_ids, attention_mask)\n",
    "    _, prediction = torch.max(output, dim=1)\n",
    "\n",
    "wrapped_review = \"\\n\".join(wrap(review))\n",
    "print(f'Review text: {wrapped_review}\\n')\n",
    "print(f'Sentiment  : {class_names[prediction]}')"
   ]
  },
  {
   "cell_type": "markdown",
   "id": "e9ad0d43",
   "metadata": {},
   "source": [
    "# Check incorrect predictions"
   ]
  },
  {
   "cell_type": "code",
   "execution_count": null,
   "id": "865ae156",
   "metadata": {
    "colab": {
     "base_uri": "https://localhost:8080/"
    },
    "id": "fgF2qC-SQ4cF",
    "outputId": "a70a0dd2-9d61-47e8-9eea-846d08d83d7f"
   },
   "outputs": [],
   "source": [
    "wrong_pred_idx = np.where(y_test != y_pred)[0]\n",
    "len(wrong_pred_idx)"
   ]
  },
  {
   "cell_type": "code",
   "execution_count": null,
   "id": "9c182a43",
   "metadata": {
    "colab": {
     "base_uri": "https://localhost:8080/"
    },
    "id": "Yu3zRPkNpP70",
    "outputId": "60557a2f-78e6-4d11-9343-b5355bb72b0d"
   },
   "outputs": [],
   "source": [
    "sorted(y_pred_probs[wrong_pred_idx].numpy(), key=lambda x: x.max(), reverse=True)[:5]"
   ]
  },
  {
   "cell_type": "code",
   "execution_count": null,
   "id": "4adbf166",
   "metadata": {
    "id": "BD1ctD-xrHBp"
   },
   "outputs": [],
   "source": [
    "prob_idx_dict = {k: v.numpy() for k, v in zip(wrong_pred_idx, y_pred_probs[wrong_pred_idx])}"
   ]
  },
  {
   "cell_type": "code",
   "execution_count": null,
   "id": "4c5404dc",
   "metadata": {
    "id": "z60hyweDpW_0"
   },
   "outputs": [],
   "source": [
    "sorted_wrong_pred = sorted(prob_idx_dict.items(), \n",
    "                           key=lambda x: x[1].max(),\n",
    "                           reverse=True)"
   ]
  },
  {
   "cell_type": "code",
   "execution_count": null,
   "id": "b5e5c456",
   "metadata": {
    "colab": {
     "base_uri": "https://localhost:8080/"
    },
    "id": "YuXZWkMYsdsd",
    "outputId": "5f0d7b2c-48d0-48c6-fe0b-7f96d3a40744"
   },
   "outputs": [],
   "source": [
    "sorted_wrong_pred[:5]"
   ]
  },
  {
   "cell_type": "code",
   "execution_count": null,
   "id": "fe4c3811",
   "metadata": {
    "colab": {
     "base_uri": "https://localhost:8080/"
    },
    "id": "vhDvU-ZyyJDq",
    "outputId": "e1ca6086-8095-409e-d857-038b90d35012"
   },
   "outputs": [],
   "source": [
    "top_k = 5\n",
    "\n",
    "for idx, _ in sorted_wrong_pred[:top_k]:\n",
    "    wrapped_review = \"\\n\".join(wrap(y_review[idx]))\n",
    "\n",
    "    print(f'Review text:\\n{wrapped_review}\\n')\n",
    "    print(f'Actual    : {class_names[y_test[idx]]}')\n",
    "    print(f'Predicted : {class_names[y_pred[idx]]}\\n')\n",
    "    # break"
   ]
  },
  {
   "cell_type": "code",
   "execution_count": null,
   "id": "bc069358",
   "metadata": {},
   "outputs": [],
   "source": [
    "review_str = 'This sleek, sexy movie is a must-see'\n",
    "df[df.review.str.contains(review_str)]"
   ]
  },
  {
   "cell_type": "markdown",
   "id": "998cf464",
   "metadata": {
    "id": "blkElYQqx3aC"
   },
   "source": [
    "**Obviously something was wrong about the original labellings for such reviews.**\n",
    "\n",
    "If the labels were correct, then the accuracy of the model would be much better,\n",
    "as proven by the results of the predictions."
   ]
  },
  {
   "cell_type": "code",
   "execution_count": null,
   "id": "8d3787a5",
   "metadata": {},
   "outputs": [],
   "source": []
  }
 ],
 "metadata": {
  "accelerator": "GPU",
  "colab": {
   "collapsed_sections": [],
   "name": "analysis_modelling.ipynb",
   "provenance": [],
   "toc_visible": true
  },
  "kernelspec": {
   "display_name": "torch",
   "language": "python",
   "name": "torch"
  },
  "language_info": {
   "codemirror_mode": {
    "name": "ipython",
    "version": 3
   },
   "file_extension": ".py",
   "mimetype": "text/x-python",
   "name": "python",
   "nbconvert_exporter": "python",
   "pygments_lexer": "ipython3",
   "version": "3.8.11"
  }
 },
 "nbformat": 4,
 "nbformat_minor": 5
}
