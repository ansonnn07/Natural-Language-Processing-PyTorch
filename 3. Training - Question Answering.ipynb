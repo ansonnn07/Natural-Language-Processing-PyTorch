{
 "cells": [
  {
   "cell_type": "markdown",
   "id": "d7dd2a10-3199-4722-8697-4e0144fba261",
   "metadata": {},
   "source": [
    "# Setup"
   ]
  },
  {
   "cell_type": "code",
   "execution_count": null,
   "id": "751968fa-6627-47ba-9f7a-eb95ed826c3f",
   "metadata": {},
   "outputs": [],
   "source": [
    "def get_questions(train_json):\n",
    "    question_cnt = 0\n",
    "    \n",
    "    # take 50th for easier context\n",
    "    for para in train_json['data'][50]['paragraphs']:\n",
    "        data_records = []\n",
    "        context = para['context']\n",
    "\n",
    "        for qas in para['qas']:\n",
    "            question = qas['question']\n",
    "\n",
    "            answer_dict = qas['answers'][0]\n",
    "            answer_text = answer_dict['text']\n",
    "            answer_start = answer_dict['answer_start']\n",
    "            answer_end = answer_start + len(answer_text)\n",
    "\n",
    "            data_records.append({\n",
    "                'context': context,\n",
    "                'question': question,\n",
    "            })\n",
    "            \n",
    "            question_cnt += 1\n",
    "    return pd.DataFrame(data_records)"
   ]
  },
  {
   "cell_type": "code",
   "execution_count": null,
   "id": "a4236fbb-6b9b-4289-94e7-da6ba4e59cd5",
   "metadata": {},
   "outputs": [],
   "source": []
  }
 ],
 "metadata": {
  "kernelspec": {
   "display_name": "torch",
   "language": "python",
   "name": "torch"
  },
  "language_info": {
   "codemirror_mode": {
    "name": "ipython",
    "version": 3
   },
   "file_extension": ".py",
   "mimetype": "text/x-python",
   "name": "python",
   "nbconvert_exporter": "python",
   "pygments_lexer": "ipython3",
   "version": "3.8.11"
  }
 },
 "nbformat": 4,
 "nbformat_minor": 5
}
